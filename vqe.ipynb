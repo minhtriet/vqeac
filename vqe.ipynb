{
 "cells": [
  {
   "cell_type": "markdown",
   "metadata": {},
   "source": [
    "VQEAC\n",
    "============================="
   ]
  },
  {
   "cell_type": "code",
   "execution_count": 1,
   "metadata": {
    "collapsed": false,
    "jupyter": {
     "outputs_hidden": false
    }
   },
   "outputs": [],
   "source": [
    "import functools \n",
    "\n",
    "import pennylane as qml\n",
    "from pennylane import numpy as np\n",
    "import optax\n",
    "import jax\n",
    "\n",
    "h2_dataset = qml.data.load(\"qchem\", molname=\"H2\", bondlength=0.742, basis=\"STO-3G\")\n",
    "h2 = h2_dataset[0]\n",
    "H, qubits = h2.hamiltonian, len(h2.hamiltonian.wires)"
   ]
  },
  {
   "cell_type": "code",
   "execution_count": 2,
   "metadata": {},
   "outputs": [
    {
     "data": {
      "text/plain": [
       "tensor([1, 1, 0, 0], dtype=int64, requires_grad=True)"
      ]
     },
     "execution_count": 2,
     "metadata": {},
     "output_type": "execute_result"
    }
   ],
   "source": [
    "h2.hf_state"
   ]
  },
  {
   "cell_type": "markdown",
   "metadata": {},
   "source": [
    "## VQE\n",
    "Each VQE needs the following:\n",
    "- An Ansatz\n",
    "- Loss function"
   ]
  },
  {
   "cell_type": "code",
   "execution_count": 3,
   "metadata": {},
   "outputs": [
    {
     "name": "stdout",
     "output_type": "stream",
     "text": [
      "Number of qubits =  4\n",
      "The Hamiltonian is    (-0.22250914236600539) [Z2]\n",
      "+ (-0.22250914236600539) [Z3]\n",
      "+ (-0.09963387941370971) [I0]\n",
      "+ (0.17110545123720225) [Z1]\n",
      "+ (0.17110545123720233) [Z0]\n",
      "+ (0.12051027989546245) [Z0 Z2]\n",
      "+ (0.12051027989546245) [Z1 Z3]\n",
      "+ (0.16584090244119712) [Z0 Z3]\n",
      "+ (0.16584090244119712) [Z1 Z2]\n",
      "+ (0.16859349595532533) [Z0 Z1]\n",
      "+ (0.1743207725924201) [Z2 Z3]\n",
      "+ (-0.04533062254573469) [Y0 Y1 X2 X3]\n",
      "+ (-0.04533062254573469) [X0 X1 Y2 Y3]\n",
      "+ (0.04533062254573469) [Y0 X1 X2 Y3]\n",
      "+ (0.04533062254573469) [X0 Y1 Y2 X3]\n"
     ]
    }
   ],
   "source": [
    "print(\"Number of qubits = \", qubits)\n",
    "print(\"The Hamiltonian is \", H)"
   ]
  },
  {
   "cell_type": "markdown",
   "metadata": {},
   "source": [
    "## Begin training\n",
    "Let's set some expectation for the optimization process. Thankfully, $H_2$ is well studied and we have all we need in the `dataset` library to know the ground truth"
   ]
  },
  {
   "cell_type": "markdown",
   "metadata": {},
   "source": [
    "### Ansatz\n",
    "\n",
    "Before any run, we can assume that the Jordan Wigner representation `[1 1 0 0]` has the lowest energy. Let's calculate that"
   ]
  },
  {
   "cell_type": "code",
   "execution_count": 4,
   "metadata": {},
   "outputs": [],
   "source": [
    "dev = qml.device(\"lightning.qubit\", wires=qubits)\n",
    "@qml.qnode(dev)\n",
    "def circuit_exptected():\n",
    "    qml.BasisState(h2.hf_state, wires = range(qubits))\n",
    "    for op in h2.vqe_gates:\n",
    "        qml.apply(op)\n",
    "    return qml.state()"
   ]
  },
  {
   "cell_type": "markdown",
   "metadata": {},
   "source": [
    "Since the Hamiltonian doesn't have a canonical representation, we have to create a work around"
   ]
  },
  {
   "cell_type": "markdown",
   "metadata": {},
   "source": [
    "The idea herer is, for `Z(1)`, we convert into `I(0) @ Z(1) @ I(1) @ I(2)`, and do the same for every Hamiltonian operator"
   ]
  },
  {
   "cell_type": "code",
   "execution_count": 5,
   "metadata": {},
   "outputs": [],
   "source": [
    "def hamiltonian_to_matrix(hamiltonian, wires: qml.wires.Wires):\n",
    "    matrix = 0+0j\n",
    "    set_wires = set(wires)\n",
    "    list_wires = list(wires)\n",
    "    for coeff, op in zip(hamiltonian.coeffs, hamiltonian.ops):\n",
    "        missing_wires = set_wires - set(op.wires)\n",
    "        padded_ops = op.obs if isinstance(op, qml.operation.Tensor) else [op]        \n",
    "        for wire in list_wires:\n",
    "            if wire in missing_wires:\n",
    "                padded_ops.append(qml.Identity(wire))\n",
    "        padded_ops.sort(key=lambda x: x.wires.tolist())\n",
    "        padded_ops = [op.matrix() for op in padded_ops]        \n",
    "        matrix += coeff * functools.reduce(lambda a, b: np.kron(a, b), padded_ops)\n",
    "    return matrix"
   ]
  },
  {
   "cell_type": "code",
   "execution_count": 6,
   "metadata": {},
   "outputs": [
    {
     "name": "stdout",
     "output_type": "stream",
     "text": [
      "HF state: [1 1 0 0]\n"
     ]
    },
    {
     "data": {
      "text/plain": [
       "array([ 0.        +0.j,  0.        +0.j,  0.        +0.j, -0.13619566+0.j,\n",
       "        0.        +0.j,  0.        +0.j,  0.        +0.j,  0.        +0.j,\n",
       "        0.        +0.j,  0.        +0.j,  0.        +0.j,  0.        +0.j,\n",
       "        0.99068196+0.j,  0.        +0.j,  0.        +0.j,  0.        +0.j])"
      ]
     },
     "execution_count": 6,
     "metadata": {},
     "output_type": "execute_result"
    }
   ],
   "source": [
    "print(f\"HF state: {h2.hf_state}\")\n",
    "circuit_exptected()"
   ]
  },
  {
   "cell_type": "code",
   "execution_count": 7,
   "metadata": {},
   "outputs": [
    {
     "data": {
      "text/plain": [
       "array([ 0.        +0.j,  0.        +0.j,  0.        +0.j, -0.13619566+0.j,\n",
       "        0.        +0.j,  0.        +0.j,  0.        +0.j,  0.        +0.j,\n",
       "        0.        +0.j,  0.        +0.j,  0.        +0.j,  0.        +0.j,\n",
       "        0.99068196+0.j,  0.        +0.j,  0.        +0.j,  0.        +0.j])"
      ]
     },
     "execution_count": 7,
     "metadata": {},
     "output_type": "execute_result"
    }
   ],
   "source": [
    "circuit_exptected()"
   ]
  },
  {
   "cell_type": "code",
   "execution_count": 8,
   "metadata": {},
   "outputs": [
    {
     "data": {
      "text/plain": [
       "tensor(-1.13637658+0.j, requires_grad=True)"
      ]
     },
     "execution_count": 8,
     "metadata": {},
     "output_type": "execute_result"
    }
   ],
   "source": [
    "circuit_exptected().conj().T @ hamiltonian_to_matrix(h2.hamiltonian, h2.hamiltonian.wires) @ circuit_exptected()"
   ]
  },
  {
   "cell_type": "markdown",
   "metadata": {},
   "source": [
    "Taking the superposition with themselves and the higher/lower energy level (excite/de-excite). Note that in `h2.vqe_gates` we already have the value for $\\theta$"
   ]
  },
  {
   "cell_type": "code",
   "execution_count": 9,
   "metadata": {},
   "outputs": [
    {
     "name": "stdout",
     "output_type": "stream",
     "text": [
      "0: ─╭|Ψ⟩─╭G²(0.27)─┤  State\n",
      "1: ─├|Ψ⟩─├G²(0.27)─┤  State\n",
      "2: ─├|Ψ⟩─├G²(0.27)─┤  State\n",
      "3: ─╰|Ψ⟩─╰G²(0.27)─┤  State\n"
     ]
    }
   ],
   "source": [
    "print(qml.draw(circuit_exptected)())"
   ]
  },
  {
   "cell_type": "markdown",
   "metadata": {},
   "source": [
    "We would define the same circuit but without the $\\theta$. Given 2 $H$ and 4 qubits, after a double excitation, the HF is the superposition of the states\n",
    "$$\\alpha\\ket{1100}+\\beta\\ket{0011}:=\\cos(\\theta)\\ket{1100}-\\sin(\\theta)\\ket{0011}$$\n",
    "\n",
    "[comment]: # ($\\alpha\\ket{110000}+\\beta\\ket{001100}+\\gamma\\ket{000011}$ this is H3)\n"
   ]
  },
  {
   "cell_type": "code",
   "execution_count": 10,
   "metadata": {
    "collapsed": false,
    "jupyter": {
     "outputs_hidden": false
    }
   },
   "outputs": [],
   "source": [
    "@qml.qnode(dev)\n",
    "def circuit(param):\n",
    "    qml.BasisState(h2.hf_state, wires=range(qubits))\n",
    "    qml.DoubleExcitation(param, wires=[0, 1, 2, 3])\n",
    "    return qml.state()"
   ]
  },
  {
   "cell_type": "markdown",
   "metadata": {},
   "source": [
    "### Define the lost function\n",
    "Remember that the lost function is the second ingredient. We use the first two equations in [this paper](https://www.nature.com/articles/s41524-023-00965-1)\n",
    "$$\\left\\langle {{\\Psi}\\left( {{{\\mathbf{\\theta }}}} \\right)\\left| {\\hat H} \\right|{\\Psi}\\left( {{{\\mathbf{\\theta }}}} \\right)} \\right\\rangle$$\n",
    "\n",
    "$$C_1\\left( {{{\\mathbf{\\theta }}}} \\right) = \\left\\langle {{\\Psi}\\left( {{{\\mathbf{\\theta }}}} \\right)\\left| {\\hat H} \\right|{\\Psi}\\left( {{{\\mathbf{\\theta }}}} \\right)} \\right\\rangle + \\beta \\left| {\\left\\langle {{\\Psi}\\left( {{{\\mathbf{\\theta }}}} \\right)\\left| {{\\Psi}_0} \\right.} \\right\\rangle } \\right|^2$$\n",
    "\n",
    "We can then define a lost function\n",
    "\n",
    "\n",
    "\n",
    "At first sight, it might raises some eyebrow for someone who is from a ML background, because we define the loss function based on the predicted and the groundtruth. However we do not have any groundtruth value here. In this context, a loss function is just a function that we want to minimize.\n",
    "\n",
    "\n",
    "Now we proceed to optimize the variational parameters"
   ]
  },
  {
   "cell_type": "code",
   "execution_count": 11,
   "metadata": {},
   "outputs": [],
   "source": [
    "def loss_fn_1(theta):\n",
    "    \"\"\"\n",
    "    Pure expectation value\n",
    "    \"\"\"\n",
    "    state = circuit(theta)\n",
    "    return state.conj().T @ hamiltonian_to_matrix(h2.hamiltonian, h2.hamiltonian.wires) @ state\n",
    "\n",
    "def loss_fn_2(theta, beta):\n",
    "    \"\"\"\n",
    "    Expectation value\n",
    "    \"\"\"\n",
    "    state = circuit(theta)\n",
    "    return state.conj().T @ hamiltonian_to_matrix(h2.hamiltonian, h2.hamiltonian.wires) @ state + beta*(state.conj().T @ h2.hf_state)**2"
   ]
  },
  {
   "cell_type": "code",
   "execution_count": 12,
   "metadata": {
    "collapsed": false,
    "jupyter": {
     "outputs_hidden": false
    }
   },
   "outputs": [
    {
     "name": "stderr",
     "output_type": "stream",
     "text": [
      "C:\\code\\vqeac\\.venv\\lib\\site-packages\\pennylane\\math\\utils.py:227: UserWarning: Contains tensors of types {'jax', 'autograd'}; dispatch will prioritize TensorFlow, PyTorch, and  Jax over Autograd. Consider replacing Autograd with vanilla NumPy.\n",
      "  warnings.warn(\n"
     ]
    },
    {
     "ename": "ValueError",
     "evalue": "Computing the gradient of circuits that return the state with the parameter-shift rule gradient transform is not supported, as it is a hardware-compatible method.",
     "output_type": "error",
     "traceback": [
      "\u001b[1;31m---------------------------------------------------------------------------\u001b[0m",
      "\u001b[1;31mValueError\u001b[0m                                Traceback (most recent call last)",
      "Cell \u001b[1;32mIn[12], line 15\u001b[0m\n\u001b[0;32m     12\u001b[0m opt_state \u001b[38;5;241m=\u001b[39m opt\u001b[38;5;241m.\u001b[39minit(theta)\n\u001b[0;32m     14\u001b[0m \u001b[38;5;28;01mfor\u001b[39;00m n \u001b[38;5;129;01min\u001b[39;00m \u001b[38;5;28mrange\u001b[39m(max_iterations):\n\u001b[1;32m---> 15\u001b[0m     gradient \u001b[38;5;241m=\u001b[39m \u001b[43mjax\u001b[49m\u001b[38;5;241;43m.\u001b[39;49m\u001b[43mgrad\u001b[49m\u001b[43m(\u001b[49m\u001b[43mloss_fn_1\u001b[49m\u001b[43m)\u001b[49m\u001b[43m(\u001b[49m\u001b[43mtheta\u001b[49m\u001b[43m)\u001b[49m\n\u001b[0;32m     16\u001b[0m     updates, opt_state \u001b[38;5;241m=\u001b[39m opt\u001b[38;5;241m.\u001b[39mupdate(gradient, opt_state)\n\u001b[0;32m     17\u001b[0m     theta \u001b[38;5;241m=\u001b[39m optax\u001b[38;5;241m.\u001b[39mapply_updates(theta, updates)\n",
      "    \u001b[1;31m[... skipping hidden 10 frame]\u001b[0m\n",
      "Cell \u001b[1;32mIn[11], line 5\u001b[0m, in \u001b[0;36mloss_fn_1\u001b[1;34m(theta)\u001b[0m\n\u001b[0;32m      1\u001b[0m \u001b[38;5;28;01mdef\u001b[39;00m \u001b[38;5;21mloss_fn_1\u001b[39m(theta):\n\u001b[0;32m      2\u001b[0m \u001b[38;5;250m    \u001b[39m\u001b[38;5;124;03m\"\"\"\u001b[39;00m\n\u001b[0;32m      3\u001b[0m \u001b[38;5;124;03m    Pure expectation value\u001b[39;00m\n\u001b[0;32m      4\u001b[0m \u001b[38;5;124;03m    \"\"\"\u001b[39;00m\n\u001b[1;32m----> 5\u001b[0m     state \u001b[38;5;241m=\u001b[39m \u001b[43mcircuit\u001b[49m\u001b[43m(\u001b[49m\u001b[43mtheta\u001b[49m\u001b[43m)\u001b[49m\n\u001b[0;32m      6\u001b[0m     \u001b[38;5;28;01mreturn\u001b[39;00m state\u001b[38;5;241m.\u001b[39mconj()\u001b[38;5;241m.\u001b[39mT \u001b[38;5;241m@\u001b[39m hamiltonian_to_matrix(h2\u001b[38;5;241m.\u001b[39mhamiltonian, h2\u001b[38;5;241m.\u001b[39mhamiltonian\u001b[38;5;241m.\u001b[39mwires) \u001b[38;5;241m@\u001b[39m state\n",
      "File \u001b[1;32mC:\\code\\vqeac\\.venv\\lib\\site-packages\\pennylane\\workflow\\qnode.py:1048\u001b[0m, in \u001b[0;36mQNode.__call__\u001b[1;34m(self, *args, **kwargs)\u001b[0m\n\u001b[0;32m   1043\u001b[0m         full_transform_program\u001b[38;5;241m.\u001b[39m_set_all_argnums(\n\u001b[0;32m   1044\u001b[0m             \u001b[38;5;28mself\u001b[39m, args, kwargs, argnums\n\u001b[0;32m   1045\u001b[0m         )  \u001b[38;5;66;03m# pylint: disable=protected-access\u001b[39;00m\n\u001b[0;32m   1047\u001b[0m \u001b[38;5;66;03m# pylint: disable=unexpected-keyword-arg\u001b[39;00m\n\u001b[1;32m-> 1048\u001b[0m res \u001b[38;5;241m=\u001b[39m qml\u001b[38;5;241m.\u001b[39mexecute(\n\u001b[0;32m   1049\u001b[0m     (\u001b[38;5;28mself\u001b[39m\u001b[38;5;241m.\u001b[39m_tape,),\n\u001b[0;32m   1050\u001b[0m     device\u001b[38;5;241m=\u001b[39m\u001b[38;5;28mself\u001b[39m\u001b[38;5;241m.\u001b[39mdevice,\n\u001b[0;32m   1051\u001b[0m     gradient_fn\u001b[38;5;241m=\u001b[39m\u001b[38;5;28mself\u001b[39m\u001b[38;5;241m.\u001b[39mgradient_fn,\n\u001b[0;32m   1052\u001b[0m     interface\u001b[38;5;241m=\u001b[39m\u001b[38;5;28mself\u001b[39m\u001b[38;5;241m.\u001b[39minterface,\n\u001b[0;32m   1053\u001b[0m     transform_program\u001b[38;5;241m=\u001b[39mfull_transform_program,\n\u001b[0;32m   1054\u001b[0m     config\u001b[38;5;241m=\u001b[39mconfig,\n\u001b[0;32m   1055\u001b[0m     gradient_kwargs\u001b[38;5;241m=\u001b[39m\u001b[38;5;28mself\u001b[39m\u001b[38;5;241m.\u001b[39mgradient_kwargs,\n\u001b[0;32m   1056\u001b[0m     override_shots\u001b[38;5;241m=\u001b[39moverride_shots,\n\u001b[0;32m   1057\u001b[0m     \u001b[38;5;241m*\u001b[39m\u001b[38;5;241m*\u001b[39m\u001b[38;5;28mself\u001b[39m\u001b[38;5;241m.\u001b[39mexecute_kwargs,\n\u001b[0;32m   1058\u001b[0m )\n\u001b[0;32m   1060\u001b[0m res \u001b[38;5;241m=\u001b[39m res[\u001b[38;5;241m0\u001b[39m]\n\u001b[0;32m   1062\u001b[0m \u001b[38;5;66;03m# convert result to the interface in case the qfunc has no parameters\u001b[39;00m\n",
      "File \u001b[1;32mC:\\code\\vqeac\\.venv\\lib\\site-packages\\pennylane\\workflow\\execution.py:865\u001b[0m, in \u001b[0;36mexecute\u001b[1;34m(tapes, device, gradient_fn, interface, transform_program, config, grad_on_execution, gradient_kwargs, cache, cachesize, max_diff, override_shots, expand_fn, max_expansion, device_batch_transform, device_vjp)\u001b[0m\n\u001b[0;32m    857\u001b[0m ml_boundary_execute \u001b[38;5;241m=\u001b[39m _get_ml_boundary_execute(\n\u001b[0;32m    858\u001b[0m     interface,\n\u001b[0;32m    859\u001b[0m     _grad_on_execution,\n\u001b[0;32m    860\u001b[0m     config\u001b[38;5;241m.\u001b[39muse_device_jacobian_product,\n\u001b[0;32m    861\u001b[0m     differentiable\u001b[38;5;241m=\u001b[39mmax_diff \u001b[38;5;241m>\u001b[39m \u001b[38;5;241m1\u001b[39m,\n\u001b[0;32m    862\u001b[0m )\n\u001b[0;32m    864\u001b[0m \u001b[38;5;28;01mif\u001b[39;00m interface \u001b[38;5;129;01min\u001b[39;00m jpc_interfaces:\n\u001b[1;32m--> 865\u001b[0m     results \u001b[38;5;241m=\u001b[39m \u001b[43mml_boundary_execute\u001b[49m\u001b[43m(\u001b[49m\u001b[43mtapes\u001b[49m\u001b[43m,\u001b[49m\u001b[43m \u001b[49m\u001b[43mexecute_fn\u001b[49m\u001b[43m,\u001b[49m\u001b[43m \u001b[49m\u001b[43mjpc\u001b[49m\u001b[43m,\u001b[49m\u001b[43m \u001b[49m\u001b[43mdevice\u001b[49m\u001b[38;5;241;43m=\u001b[39;49m\u001b[43mdevice\u001b[49m\u001b[43m)\u001b[49m\n\u001b[0;32m    866\u001b[0m \u001b[38;5;28;01melse\u001b[39;00m:\n\u001b[0;32m    867\u001b[0m     results \u001b[38;5;241m=\u001b[39m ml_boundary_execute(\n\u001b[0;32m    868\u001b[0m         tapes, device, execute_fn, gradient_fn, gradient_kwargs, _n\u001b[38;5;241m=\u001b[39m\u001b[38;5;241m1\u001b[39m, max_diff\u001b[38;5;241m=\u001b[39mmax_diff\n\u001b[0;32m    869\u001b[0m     )\n",
      "File \u001b[1;32mC:\\code\\vqeac\\.venv\\lib\\site-packages\\pennylane\\workflow\\interfaces\\jax.py:264\u001b[0m, in \u001b[0;36mjax_jvp_execute\u001b[1;34m(tapes, execute_fn, jpc, device)\u001b[0m\n\u001b[0;32m    260\u001b[0m     logger\u001b[38;5;241m.\u001b[39mdebug(\u001b[38;5;124m\"\u001b[39m\u001b[38;5;124mEntry with (tapes=\u001b[39m\u001b[38;5;132;01m%s\u001b[39;00m\u001b[38;5;124m, execute_fn=\u001b[39m\u001b[38;5;132;01m%s\u001b[39;00m\u001b[38;5;124m, jpc=\u001b[39m\u001b[38;5;132;01m%s\u001b[39;00m\u001b[38;5;124m)\u001b[39m\u001b[38;5;124m\"\u001b[39m, tapes, execute_fn, jpc)\n\u001b[0;32m    262\u001b[0m parameters \u001b[38;5;241m=\u001b[39m \u001b[38;5;28mtuple\u001b[39m(\u001b[38;5;28mtuple\u001b[39m(t\u001b[38;5;241m.\u001b[39mget_parameters()) \u001b[38;5;28;01mfor\u001b[39;00m t \u001b[38;5;129;01min\u001b[39;00m tapes)\n\u001b[1;32m--> 264\u001b[0m \u001b[38;5;28;01mreturn\u001b[39;00m \u001b[43m_execute_jvp\u001b[49m\u001b[43m(\u001b[49m\u001b[43mparameters\u001b[49m\u001b[43m,\u001b[49m\u001b[43m \u001b[49m\u001b[43m_NonPytreeWrapper\u001b[49m\u001b[43m(\u001b[49m\u001b[38;5;28;43mtuple\u001b[39;49m\u001b[43m(\u001b[49m\u001b[43mtapes\u001b[49m\u001b[43m)\u001b[49m\u001b[43m)\u001b[49m\u001b[43m,\u001b[49m\u001b[43m \u001b[49m\u001b[43mexecute_fn\u001b[49m\u001b[43m,\u001b[49m\u001b[43m \u001b[49m\u001b[43mjpc\u001b[49m\u001b[43m)\u001b[49m\n",
      "    \u001b[1;31m[... skipping hidden 5 frame]\u001b[0m\n",
      "File \u001b[1;32mC:\\code\\vqeac\\.venv\\lib\\site-packages\\pennylane\\workflow\\interfaces\\jax.py:237\u001b[0m, in \u001b[0;36m_execute_and_compute_jvp\u001b[1;34m(tapes, execute_fn, jpc, primals, tangents)\u001b[0m\n\u001b[0;32m    233\u001b[0m \u001b[38;5;250m\u001b[39m\u001b[38;5;124;03m\"\"\"Compute the results and jvps for ``tapes`` with ``primals[0]`` parameters via\u001b[39;00m\n\u001b[0;32m    234\u001b[0m \u001b[38;5;124;03m``jpc``.\u001b[39;00m\n\u001b[0;32m    235\u001b[0m \u001b[38;5;124;03m\"\"\"\u001b[39;00m\n\u001b[0;32m    236\u001b[0m new_tapes \u001b[38;5;241m=\u001b[39m set_parameters_on_copy_and_unwrap(tapes\u001b[38;5;241m.\u001b[39mvals, primals[\u001b[38;5;241m0\u001b[39m], unwrap\u001b[38;5;241m=\u001b[39m\u001b[38;5;28;01mFalse\u001b[39;00m)\n\u001b[1;32m--> 237\u001b[0m res, jvps \u001b[38;5;241m=\u001b[39m \u001b[43mjpc\u001b[49m\u001b[38;5;241;43m.\u001b[39;49m\u001b[43mexecute_and_compute_jvp\u001b[49m\u001b[43m(\u001b[49m\u001b[43mnew_tapes\u001b[49m\u001b[43m,\u001b[49m\u001b[43m \u001b[49m\u001b[43mtangents\u001b[49m\u001b[43m[\u001b[49m\u001b[38;5;241;43m0\u001b[39;49m\u001b[43m]\u001b[49m\u001b[43m)\u001b[49m\n\u001b[0;32m    238\u001b[0m \u001b[38;5;28;01mreturn\u001b[39;00m _to_jax(res), _to_jax(jvps)\n",
      "File \u001b[1;32mC:\\code\\vqeac\\.venv\\lib\\site-packages\\pennylane\\workflow\\jacobian_products.py:278\u001b[0m, in \u001b[0;36mTransformJacobianProducts.execute_and_compute_jvp\u001b[1;34m(self, tapes, tangents)\u001b[0m\n\u001b[0;32m    276\u001b[0m     jvps \u001b[38;5;241m=\u001b[39m _compute_jvps(jacs, tangents, tapes)\n\u001b[0;32m    277\u001b[0m     \u001b[38;5;28;01mreturn\u001b[39;00m \u001b[38;5;28mself\u001b[39m\u001b[38;5;241m.\u001b[39m_inner_execute(tapes), jvps\n\u001b[1;32m--> 278\u001b[0m jvp_tapes, jvp_processing_fn \u001b[38;5;241m=\u001b[39m \u001b[43mqml\u001b[49m\u001b[38;5;241;43m.\u001b[39;49m\u001b[43mgradients\u001b[49m\u001b[38;5;241;43m.\u001b[39;49m\u001b[43mbatch_jvp\u001b[49m\u001b[43m(\u001b[49m\n\u001b[0;32m    279\u001b[0m \u001b[43m    \u001b[49m\u001b[43mtapes\u001b[49m\u001b[43m,\u001b[49m\u001b[43m \u001b[49m\u001b[43mtangents\u001b[49m\u001b[43m,\u001b[49m\u001b[43m \u001b[49m\u001b[38;5;28;43mself\u001b[39;49m\u001b[38;5;241;43m.\u001b[39;49m\u001b[43m_gradient_transform\u001b[49m\u001b[43m,\u001b[49m\u001b[43m \u001b[49m\u001b[43mgradient_kwargs\u001b[49m\u001b[38;5;241;43m=\u001b[39;49m\u001b[38;5;28;43mself\u001b[39;49m\u001b[38;5;241;43m.\u001b[39;49m\u001b[43m_gradient_kwargs\u001b[49m\n\u001b[0;32m    280\u001b[0m \u001b[43m\u001b[49m\u001b[43m)\u001b[49m\n\u001b[0;32m    282\u001b[0m full_batch \u001b[38;5;241m=\u001b[39m tapes \u001b[38;5;241m+\u001b[39m \u001b[38;5;28mtuple\u001b[39m(jvp_tapes)\n\u001b[0;32m    284\u001b[0m full_results \u001b[38;5;241m=\u001b[39m \u001b[38;5;28mself\u001b[39m\u001b[38;5;241m.\u001b[39m_inner_execute(full_batch)\n",
      "File \u001b[1;32mC:\\code\\vqeac\\.venv\\lib\\site-packages\\pennylane\\gradients\\jvp.py:418\u001b[0m, in \u001b[0;36mbatch_jvp\u001b[1;34m(tapes, tangents, gradient_fn, reduction, gradient_kwargs)\u001b[0m\n\u001b[0;32m    416\u001b[0m \u001b[38;5;66;03m# Loop through the tapes and dys vector\u001b[39;00m\n\u001b[0;32m    417\u001b[0m \u001b[38;5;28;01mfor\u001b[39;00m tape, tangent \u001b[38;5;129;01min\u001b[39;00m \u001b[38;5;28mzip\u001b[39m(tapes, tangents):\n\u001b[1;32m--> 418\u001b[0m     g_tapes, fn \u001b[38;5;241m=\u001b[39m \u001b[43mjvp\u001b[49m\u001b[43m(\u001b[49m\u001b[43mtape\u001b[49m\u001b[43m,\u001b[49m\u001b[43m \u001b[49m\u001b[43mtangent\u001b[49m\u001b[43m,\u001b[49m\u001b[43m \u001b[49m\u001b[43mgradient_fn\u001b[49m\u001b[43m,\u001b[49m\u001b[43m \u001b[49m\u001b[43mgradient_kwargs\u001b[49m\u001b[43m)\u001b[49m\n\u001b[0;32m    420\u001b[0m     reshape_info\u001b[38;5;241m.\u001b[39mappend(\u001b[38;5;28mlen\u001b[39m(g_tapes))\n\u001b[0;32m    421\u001b[0m     processing_fns\u001b[38;5;241m.\u001b[39mappend(fn)\n",
      "File \u001b[1;32mC:\\code\\vqeac\\.venv\\lib\\site-packages\\pennylane\\gradients\\jvp.py:324\u001b[0m, in \u001b[0;36mjvp\u001b[1;34m(tape, tangent, gradient_fn, gradient_kwargs)\u001b[0m\n\u001b[0;32m    321\u001b[0m     \u001b[38;5;28;01mpass\u001b[39;00m\n\u001b[0;32m    323\u001b[0m gradient_kwargs \u001b[38;5;241m=\u001b[39m gradient_kwargs \u001b[38;5;129;01mor\u001b[39;00m {}\n\u001b[1;32m--> 324\u001b[0m gradient_tapes, fn \u001b[38;5;241m=\u001b[39m gradient_fn(tape, \u001b[38;5;241m*\u001b[39m\u001b[38;5;241m*\u001b[39mgradient_kwargs)\n\u001b[0;32m    326\u001b[0m \u001b[38;5;28;01mdef\u001b[39;00m \u001b[38;5;21mprocessing_fn\u001b[39m(results):\n\u001b[0;32m    327\u001b[0m     \u001b[38;5;66;03m# postprocess results to compute the Jacobian\u001b[39;00m\n\u001b[0;32m    328\u001b[0m     jac \u001b[38;5;241m=\u001b[39m fn(results)\n",
      "File \u001b[1;32mC:\\code\\vqeac\\.venv\\lib\\site-packages\\pennylane\\transforms\\core\\transform_dispatcher.py:101\u001b[0m, in \u001b[0;36mTransformDispatcher.__call__\u001b[1;34m(self, *targs, **tkwargs)\u001b[0m\n\u001b[0;32m     99\u001b[0m start \u001b[38;5;241m=\u001b[39m \u001b[38;5;241m0\u001b[39m\n\u001b[0;32m    100\u001b[0m \u001b[38;5;28;01mfor\u001b[39;00m tape \u001b[38;5;129;01min\u001b[39;00m expanded_tapes:\n\u001b[1;32m--> 101\u001b[0m     intermediate_tapes, post_processing_fn \u001b[38;5;241m=\u001b[39m \u001b[38;5;28mself\u001b[39m\u001b[38;5;241m.\u001b[39m_transform(\n\u001b[0;32m    102\u001b[0m         tape, \u001b[38;5;241m*\u001b[39mtargs, \u001b[38;5;241m*\u001b[39m\u001b[38;5;241m*\u001b[39mtkwargs\n\u001b[0;32m    103\u001b[0m     )\n\u001b[0;32m    104\u001b[0m     transformed_tapes\u001b[38;5;241m.\u001b[39mextend(intermediate_tapes)\n\u001b[0;32m    105\u001b[0m     end \u001b[38;5;241m=\u001b[39m start \u001b[38;5;241m+\u001b[39m \u001b[38;5;28mlen\u001b[39m(intermediate_tapes)\n",
      "File \u001b[1;32mC:\\code\\vqeac\\.venv\\lib\\site-packages\\pennylane\\gradients\\parameter_shift.py:1058\u001b[0m, in \u001b[0;36mparam_shift\u001b[1;34m(tape, argnum, shifts, gradient_recipes, fallback_fn, f0, broadcast)\u001b[0m\n\u001b[0;32m    773\u001b[0m \u001b[38;5;250m\u001b[39m\u001b[38;5;124mr\u001b[39m\u001b[38;5;124;03m\"\"\"Transform a circuit to compute the parameter-shift gradient of all gate\u001b[39;00m\n\u001b[0;32m    774\u001b[0m \u001b[38;5;124;03mparameters with respect to its inputs.\u001b[39;00m\n\u001b[0;32m    775\u001b[0m \n\u001b[1;32m   (...)\u001b[0m\n\u001b[0;32m   1054\u001b[0m \u001b[38;5;124;03m    batch_size of the created tapes.\u001b[39;00m\n\u001b[0;32m   1055\u001b[0m \u001b[38;5;124;03m\"\"\"\u001b[39;00m\n\u001b[0;32m   1057\u001b[0m transform_name \u001b[38;5;241m=\u001b[39m \u001b[38;5;124m\"\u001b[39m\u001b[38;5;124mparameter-shift rule\u001b[39m\u001b[38;5;124m\"\u001b[39m\n\u001b[1;32m-> 1058\u001b[0m \u001b[43massert_no_state_returns\u001b[49m\u001b[43m(\u001b[49m\u001b[43mtape\u001b[49m\u001b[38;5;241;43m.\u001b[39;49m\u001b[43mmeasurements\u001b[49m\u001b[43m,\u001b[49m\u001b[43m \u001b[49m\u001b[43mtransform_name\u001b[49m\u001b[43m)\u001b[49m\n\u001b[0;32m   1059\u001b[0m assert_multimeasure_not_broadcasted(tape\u001b[38;5;241m.\u001b[39mmeasurements, broadcast)\n\u001b[0;32m   1060\u001b[0m assert_no_tape_batching(tape, transform_name)\n",
      "File \u001b[1;32mC:\\code\\vqeac\\.venv\\lib\\site-packages\\pennylane\\gradients\\gradient_transform.py:82\u001b[0m, in \u001b[0;36massert_no_state_returns\u001b[1;34m(measurements, transform_name)\u001b[0m\n\u001b[0;32m     71\u001b[0m \u001b[38;5;250m\u001b[39m\u001b[38;5;124;03m\"\"\"Check whether a set of measurements contains a measurement process that returns the quantum\u001b[39;00m\n\u001b[0;32m     72\u001b[0m \u001b[38;5;124;03mstate and raise an error if this is the case.\u001b[39;00m\n\u001b[0;32m     73\u001b[0m \n\u001b[1;32m   (...)\u001b[0m\n\u001b[0;32m     79\u001b[0m \u001b[38;5;124;03m``~.measurements.StateMP``, ``~.measurements.VnEntropyMP``, and ``~.measurements.MutualInfoMP``.\u001b[39;00m\n\u001b[0;32m     80\u001b[0m \u001b[38;5;124;03m\"\"\"\u001b[39;00m\n\u001b[0;32m     81\u001b[0m \u001b[38;5;28;01mif\u001b[39;00m \u001b[38;5;28many\u001b[39m(\u001b[38;5;28misinstance\u001b[39m(m, (StateMP, VnEntropyMP, MutualInfoMP)) \u001b[38;5;28;01mfor\u001b[39;00m m \u001b[38;5;129;01min\u001b[39;00m measurements):\n\u001b[1;32m---> 82\u001b[0m     \u001b[38;5;28;01mraise\u001b[39;00m \u001b[38;5;167;01mValueError\u001b[39;00m(\n\u001b[0;32m     83\u001b[0m         \u001b[38;5;124mf\u001b[39m\u001b[38;5;124m\"\u001b[39m\u001b[38;5;124mComputing the gradient of circuits that return the state with the \u001b[39m\u001b[38;5;132;01m{\u001b[39;00mtransform_name\u001b[38;5;132;01m}\u001b[39;00m\u001b[38;5;124m \u001b[39m\u001b[38;5;124m\"\u001b[39m\n\u001b[0;32m     84\u001b[0m         \u001b[38;5;124m\"\u001b[39m\u001b[38;5;124mgradient transform is not supported, as it is a hardware-compatible method.\u001b[39m\u001b[38;5;124m\"\u001b[39m\n\u001b[0;32m     85\u001b[0m     )\n",
      "\u001b[1;31mValueError\u001b[0m: Computing the gradient of circuits that return the state with the parameter-shift rule gradient transform is not supported, as it is a hardware-compatible method."
     ]
    }
   ],
   "source": [
    "theta = np.array(0.)\n",
    "\n",
    "# store the values of the cost function\n",
    "energy = [loss_fn_1(theta)]\n",
    "conv_tol = 1e-6\n",
    "max_iterations = 100\n",
    "opt = optax.sgd(learning_rate=0.4)\n",
    "\n",
    "# store the values of the circuit parameter\n",
    "angle = [theta]\n",
    "\n",
    "opt_state = opt.init(theta)\n",
    "\n",
    "for n in range(max_iterations):\n",
    "    gradient = jax.grad(loss_fn_1)(theta)\n",
    "    updates, opt_state = opt.update(gradient, opt_state)\n",
    "    theta = optax.apply_updates(theta, updates)\n",
    "    \n",
    "    angle.append(theta)\n",
    "    energy.append(loss_fn_1(theta))\n",
    "\n",
    "    conv = np.abs(energy[-1] - energy[-2])\n",
    "\n",
    "    if n % 2 == 0:\n",
    "        print(f\"Step = {n},  Energy = {energy[-1]:.8f} Ha\")\n",
    "\n",
    "    if conv <= conv_tol:\n",
    "        break"
   ]
  },
  {
   "cell_type": "code",
   "execution_count": null,
   "metadata": {},
   "outputs": [],
   "source": [
    "theta"
   ]
  },
  {
   "cell_type": "code",
   "execution_count": null,
   "metadata": {},
   "outputs": [],
   "source": [
    "circuit(theta)"
   ]
  },
  {
   "cell_type": "markdown",
   "metadata": {},
   "source": [
    "It is bigger than the minimum expected energy above"
   ]
  },
  {
   "cell_type": "markdown",
   "metadata": {},
   "source": [
    "## Running the VQD optimization"
   ]
  },
  {
   "cell_type": "markdown",
   "metadata": {},
   "source": [
    "According to equation 2 from [this paper](https://www.nature.com/articles/s41524-023-00965-1),"
   ]
  },
  {
   "cell_type": "code",
   "execution_count": null,
   "metadata": {},
   "outputs": [],
   "source": []
  }
 ],
 "metadata": {
  "kernelspec": {
   "display_name": "Python 3 (ipykernel)",
   "language": "python",
   "name": "python3"
  },
  "language_info": {
   "codemirror_mode": {
    "name": "ipython",
    "version": 3
   },
   "file_extension": ".py",
   "mimetype": "text/x-python",
   "name": "python",
   "nbconvert_exporter": "python",
   "pygments_lexer": "ipython3",
   "version": "3.10.4"
  }
 },
 "nbformat": 4,
 "nbformat_minor": 4
}
