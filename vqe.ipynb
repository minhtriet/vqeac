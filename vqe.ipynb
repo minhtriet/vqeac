{
 "cells": [
  {
   "cell_type": "markdown",
   "metadata": {},
   "source": [
    "VQEAC\n",
    "============================="
   ]
  },
  {
   "cell_type": "code",
   "execution_count": 1,
   "metadata": {
    "collapsed": false,
    "jupyter": {
     "outputs_hidden": false
    }
   },
   "outputs": [],
   "source": [
    "import pennylane as qml\n",
    "from pennylane import numpy as np\n",
    "import optax\n",
    "import jax\n",
    "\n",
    "h2_dataset = qml.data.load(\"qchem\", molname=\"H2\", bondlength=0.742, basis=\"STO-3G\")\n",
    "symbols = ['H', 'H']\n",
    "coordinates = np.array([0,0,-0.371,0,0,0.371])\n",
    "h2 = h2_dataset[0]"
   ]
  },
  {
   "cell_type": "code",
   "execution_count": 2,
   "metadata": {},
   "outputs": [
    {
     "data": {
      "text/plain": [
       "tensor([1, 1, 0, 0], dtype=int64, requires_grad=True)"
      ]
     },
     "execution_count": 2,
     "metadata": {},
     "output_type": "execute_result"
    }
   ],
   "source": [
    "h2.hf_state"
   ]
  },
  {
   "cell_type": "markdown",
   "metadata": {},
   "source": [
    "## VQE\n",
    "Each VQE needs the following:\n",
    "- An Ansatz\n",
    "- Loss function"
   ]
  },
  {
   "cell_type": "code",
   "execution_count": 3,
   "metadata": {},
   "outputs": [
    {
     "name": "stdout",
     "output_type": "stream",
     "text": [
      "Number of qubits =  4\n",
      "The Hamiltonian is    (-0.4602732973487343) [Z2]\n",
      "+ (-0.46027329734873423) [Z3]\n",
      "+ (0.236947529016103) [Z1]\n",
      "+ (0.23694752901610303) [Z0]\n",
      "+ (0.7735975819585081) [I0]\n",
      "+ (0.14060026997649225) [Z0 Z2]\n",
      "+ (0.14060026997649225) [Z1 Z3]\n",
      "+ (0.18165504230123497) [Z0 Z3]\n",
      "+ (0.18165504230123497) [Z1 Z2]\n",
      "+ (0.18451830790068346) [Z0 Z1]\n",
      "+ (0.19173391712932242) [Z2 Z3]\n",
      "+ (-0.04105477232474271) [Y0 Y1 X2 X3]\n",
      "+ (-0.04105477232474271) [X0 X1 Y2 Y3]\n",
      "+ (0.04105477232474271) [Y0 X1 X2 Y3]\n",
      "+ (0.04105477232474271) [X0 Y1 Y2 X3]\n"
     ]
    }
   ],
   "source": [
    "H, qubits = qml.qchem.molecular_hamiltonian(symbols, coordinates)\n",
    "print(\"Number of qubits = \", qubits)\n",
    "print(\"The Hamiltonian is \", H)"
   ]
  },
  {
   "cell_type": "markdown",
   "metadata": {},
   "source": [
    "## Begin training\n",
    "Let's set some expectation for the optimization process. Thankfully, $H_2$ is well studied and we have all we need in the `dataset` library to know the ground truth"
   ]
  },
  {
   "cell_type": "markdown",
   "metadata": {},
   "source": [
    "### Ansatz\n",
    "\n",
    "Before any run, we can assume that the Jordan Wigner representation `[1 1 0 0]` has the lowest energy. Let's calculate that"
   ]
  },
  {
   "cell_type": "code",
   "execution_count": 4,
   "metadata": {},
   "outputs": [],
   "source": [
    "dev = qml.device(\"lightning.qubit\", wires=qubits)\n",
    "@qml.qnode(dev)\n",
    "def circuit_exptected():\n",
    "    qml.BasisState(h2.hf_state, wires = range(qubits))\n",
    "    for op in h2.vqe_gates:\n",
    "        qml.apply(op)\n",
    "    return qml.expval(h2.hamiltonian)"
   ]
  },
  {
   "cell_type": "code",
   "execution_count": 5,
   "metadata": {},
   "outputs": [
    {
     "name": "stdout",
     "output_type": "stream",
     "text": [
      "HF state: [1 1 0 0]\n"
     ]
    },
    {
     "data": {
      "text/plain": [
       "array(-1.13637658)"
      ]
     },
     "execution_count": 5,
     "metadata": {},
     "output_type": "execute_result"
    }
   ],
   "source": [
    "print(f\"HF state: {h2.hf_state}\")\n",
    "circuit_exptected()"
   ]
  },
  {
   "cell_type": "code",
   "execution_count": 6,
   "metadata": {},
   "outputs": [
    {
     "data": {
      "text/plain": [
       "[DoubleExcitation(0.27324054462951564, wires=[0, 1, 2, 3])]"
      ]
     },
     "execution_count": 6,
     "metadata": {},
     "output_type": "execute_result"
    }
   ],
   "source": [
    "h2.vqe_gates"
   ]
  },
  {
   "cell_type": "markdown",
   "metadata": {},
   "source": [
    "Taking the superposition with themselves and the higher/lower energy level (excite/de-excite). Note that in `h2.vqe_gates` we already have the value for $\\theta$"
   ]
  },
  {
   "cell_type": "code",
   "execution_count": 8,
   "metadata": {},
   "outputs": [
    {
     "name": "stdout",
     "output_type": "stream",
     "text": [
      "0: ─╭|Ψ⟩─╭G²(0.27)─┤ ╭<𝓗>\n",
      "1: ─├|Ψ⟩─├G²(0.27)─┤ ├<𝓗>\n",
      "2: ─├|Ψ⟩─├G²(0.27)─┤ ├<𝓗>\n",
      "3: ─╰|Ψ⟩─╰G²(0.27)─┤ ╰<𝓗>\n"
     ]
    }
   ],
   "source": [
    "print(qml.draw(circuit_exptected)())"
   ]
  },
  {
   "cell_type": "markdown",
   "metadata": {},
   "source": [
    "We would define the same circuit but without the $\\theta$. Given 2 $H$ and 4 qubits, after a double excitation, the HF is the superposition of the states\n",
    "$$\\alpha\\ket{1100}+\\beta\\ket{0011}:=\\cos(\\theta)\\ket{1100}-\\sin(\\theta)\\ket{0011}$$\n",
    "\n",
    "[comment]: # ($\\alpha\\ket{110000}+\\beta\\ket{001100}+\\gamma\\ket{000011}$ this is H3)\n"
   ]
  },
  {
   "cell_type": "code",
   "execution_count": 9,
   "metadata": {
    "collapsed": false,
    "jupyter": {
     "outputs_hidden": false
    }
   },
   "outputs": [],
   "source": [
    "@qml.qnode(dev)\n",
    "def circuit(param):\n",
    "    qml.BasisState(h2.hf_state, wires=range(qubits))\n",
    "    qml.DoubleExcitation(param, wires=[0, 1, 2, 3])\n",
    "    return qml.expval(H)"
   ]
  },
  {
   "cell_type": "markdown",
   "metadata": {},
   "source": [
    "### Define the lost function\n",
    "Remember that the lost function is the second ingredient. We use the first two equations in [this paper](https://www.nature.com/articles/s41524-023-00965-1)\n",
    "$$\\left\\langle {{\\Psi}\\left( {{{\\mathbf{\\theta }}}} \\right)\\left| {\\hat H} \\right|{\\Psi}\\left( {{{\\mathbf{\\theta }}}} \\right)} \\right\\rangle$$\n",
    "\n",
    "$$C_1\\left( {{{\\mathbf{\\theta }}}} \\right) = \\left\\langle {{\\Psi}\\left( {{{\\mathbf{\\theta }}}} \\right)\\left| {\\hat H} \\right|{\\Psi}\\left( {{{\\mathbf{\\theta }}}} \\right)} \\right\\rangle + \\beta \\left| {\\left\\langle {{\\Psi}\\left( {{{\\mathbf{\\theta }}}} \\right)\\left| {{\\Psi}_0} \\right.} \\right\\rangle } \\right|^2$$\n",
    "\n",
    "We can then define a lost function\n",
    "\n",
    "\n",
    "\n",
    "At first sight, it might raises some eyebrow for someone who is from a ML background, because we define the loss function based on the predicted and the groundtruth. However we do not have any groundtruth value here. In this context, a loss function is just a function that we want to minimize.\n",
    "\n",
    "\n",
    "Now we proceed to optimize the variational parameters"
   ]
  },
  {
   "cell_type": "code",
   "execution_count": null,
   "metadata": {},
   "outputs": [],
   "source": [
    "def loss_fn_1(theta):\n",
    "    return circuit(theta)\n",
    "\n",
    "def loss_fn_2(theta, beta):\n",
    "    return circuit(theta) + beta*"
   ]
  },
  {
   "cell_type": "code",
   "execution_count": null,
   "metadata": {},
   "outputs": [],
   "source": [
    "def auxiliary_circuit(param):\n",
    "    qml.BasisState(h2.hf_state, wires=range(qubits))\n",
    "    qml.DoubleExcitation(param, wires=[0, 1, 2, 3])\n",
    "    return qml.expval(H)"
   ]
  },
  {
   "cell_type": "code",
   "execution_count": 29,
   "metadata": {},
   "outputs": [],
   "source": [
    "max_iterations = 100\n",
    "opt = optax.sgd(learning_rate=0.4)"
   ]
  },
  {
   "cell_type": "code",
   "execution_count": 30,
   "metadata": {
    "collapsed": false,
    "jupyter": {
     "outputs_hidden": false
    }
   },
   "outputs": [],
   "source": [
    "theta = np.array(0.)\n",
    "\n",
    "# store the values of the cost function\n",
    "energy = [circuit(theta)]\n",
    "\n",
    "# store the values of the circuit parameter\n",
    "angle = [theta]\n",
    "\n",
    "opt_state = opt.init(theta)\n",
    "\n",
    "for n in range(max_iterations):\n",
    "    gradient = jax.grad(circuit)(theta)\n",
    "    updates, opt_state = opt.update(gradient, opt_state)\n",
    "    theta = optax.apply_updates(theta, updates)\n",
    "\n",
    "    angle.append(theta)\n",
    "    energy.append(circuit(theta))"
   ]
  },
  {
   "cell_type": "code",
   "execution_count": 31,
   "metadata": {},
   "outputs": [
    {
     "data": {
      "text/plain": [
       "Array(0.11722694, dtype=float32)"
      ]
     },
     "execution_count": 31,
     "metadata": {},
     "output_type": "execute_result"
    }
   ],
   "source": [
    "theta"
   ]
  },
  {
   "cell_type": "code",
   "execution_count": 32,
   "metadata": {},
   "outputs": [
    {
     "data": {
      "text/plain": [
       "Array(-0.898739, dtype=float32)"
      ]
     },
     "execution_count": 32,
     "metadata": {},
     "output_type": "execute_result"
    }
   ],
   "source": [
    "circuit(theta)"
   ]
  },
  {
   "cell_type": "markdown",
   "metadata": {},
   "source": [
    "It is bigger than the minimum expected energy above"
   ]
  },
  {
   "cell_type": "markdown",
   "metadata": {},
   "source": [
    "## Running the VQD optimization"
   ]
  },
  {
   "cell_type": "markdown",
   "metadata": {},
   "source": [
    "According to equation 2 from [this paper](https://www.nature.com/articles/s41524-023-00965-1),"
   ]
  },
  {
   "cell_type": "code",
   "execution_count": null,
   "metadata": {},
   "outputs": [],
   "source": []
  }
 ],
 "metadata": {
  "kernelspec": {
   "display_name": "Python 3 (ipykernel)",
   "language": "python",
   "name": "python3"
  },
  "language_info": {
   "codemirror_mode": {
    "name": "ipython",
    "version": 3
   },
   "file_extension": ".py",
   "mimetype": "text/x-python",
   "name": "python",
   "nbconvert_exporter": "python",
   "pygments_lexer": "ipython3",
   "version": "3.10.4"
  }
 },
 "nbformat": 4,
 "nbformat_minor": 4
}
