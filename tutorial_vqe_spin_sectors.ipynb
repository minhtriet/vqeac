{
 "cells": [
  {
   "cell_type": "markdown",
   "metadata": {},
   "source": [
    "VQEAC\n",
    "============================="
   ]
  },
  {
   "cell_type": "code",
   "execution_count": 8,
   "metadata": {
    "collapsed": false,
    "jupyter": {
     "outputs_hidden": false
    }
   },
   "outputs": [],
   "source": [
    "import pennylane as qml\n",
    "from pennylane import numpy as np\n",
    "\n",
    "h2_dataset = qml.data.load(\"qchem\", molname=\"H2\", bondlength=0.742, basis=\"STO-3G\")\n",
    "symbols = ['H', 'H']\n",
    "coordinates = np.array([0,0,-0.371,0,0,0.371])\n",
    "h2 = h2_dataset[0]"
   ]
  },
  {
   "cell_type": "code",
   "execution_count": 9,
   "metadata": {},
   "outputs": [
    {
     "data": {
      "text/plain": [
       "tensor([1, 1, 0, 0], dtype=int64, requires_grad=True)"
      ]
     },
     "execution_count": 9,
     "metadata": {},
     "output_type": "execute_result"
    }
   ],
   "source": [
    "h2.hf_state"
   ]
  },
  {
   "cell_type": "code",
   "execution_count": 10,
   "metadata": {},
   "outputs": [
    {
     "data": {
      "text/plain": [
       "(<Hamiltonian: terms=15, wires=[0, 1, 2, 3]>, 4)"
      ]
     },
     "execution_count": 10,
     "metadata": {},
     "output_type": "execute_result"
    }
   ],
   "source": [
    "qml.qchem.molecular_hamiltonian(symbols, coordinates)"
   ]
  },
  {
   "cell_type": "code",
   "execution_count": 12,
   "metadata": {},
   "outputs": [],
   "source": [
    "qbuits = len(h2.hf_state)"
   ]
  },
  {
   "cell_type": "markdown",
   "metadata": {},
   "source": [
    "## VQE\n",
    "Based on Rayleigh–Ritz functional\n",
    "Each VQE needs the following:\n",
    "- An Ansatz\n",
    "- Loss function"
   ]
  },
  {
   "cell_type": "code",
   "execution_count": 13,
   "metadata": {},
   "outputs": [
    {
     "name": "stdout",
     "output_type": "stream",
     "text": [
      "Number of qubits =  4\n",
      "The Hamiltonian is    (-0.4602732973487343) [Z2]\n",
      "+ (-0.46027329734873423) [Z3]\n",
      "+ (0.236947529016103) [Z1]\n",
      "+ (0.23694752901610303) [Z0]\n",
      "+ (0.7735975819585081) [I0]\n",
      "+ (0.14060026997649225) [Z0 Z2]\n",
      "+ (0.14060026997649225) [Z1 Z3]\n",
      "+ (0.18165504230123497) [Z0 Z3]\n",
      "+ (0.18165504230123497) [Z1 Z2]\n",
      "+ (0.18451830790068346) [Z0 Z1]\n",
      "+ (0.19173391712932242) [Z2 Z3]\n",
      "+ (-0.04105477232474271) [Y0 Y1 X2 X3]\n",
      "+ (-0.04105477232474271) [X0 X1 Y2 Y3]\n",
      "+ (0.04105477232474271) [Y0 X1 X2 Y3]\n",
      "+ (0.04105477232474271) [X0 Y1 Y2 X3]\n"
     ]
    }
   ],
   "source": [
    "H, qubits = qml.qchem.molecular_hamiltonian(symbols, coordinates)\n",
    "print(\"Number of qubits = \", qubits)\n",
    "print(\"The Hamiltonian is \", H)"
   ]
  },
  {
   "cell_type": "markdown",
   "metadata": {},
   "source": [
    "## Expected (ha) expected energy\n",
    "\n",
    "Before any run, we can assume that the Jordan Wigner representation `[1 1 0 0]`, which is also equals to  has the lowest energy. Let's calculate that"
   ]
  },
  {
   "cell_type": "code",
   "execution_count": 23,
   "metadata": {},
   "outputs": [],
   "source": [
    "dev = qml.device(\"lightning.qubit\", wires=qubits)\n",
    "@qml.qnode(dev)\n",
    "def circuit(state):\n",
    "    qml.BasisState(state, wires = range(qbuits))\n",
    "    for op in h2.vqe_gates:\n",
    "        qml.apply(op)\n",
    "    return qml.expval(h2.hamiltonian)"
   ]
  },
  {
   "cell_type": "code",
   "execution_count": 38,
   "metadata": {},
   "outputs": [
    {
     "name": "stdout",
     "output_type": "stream",
     "text": [
      "[1 1 0 0]\n"
     ]
    },
    {
     "data": {
      "text/plain": [
       "array(-1.13637658)"
      ]
     },
     "execution_count": 38,
     "metadata": {},
     "output_type": "execute_result"
    }
   ],
   "source": [
    "print(f\" h2.hf_state}\")\n",
    "circuit(h2.hf_state)"
   ]
  },
  {
   "cell_type": "code",
   "execution_count": 20,
   "metadata": {},
   "outputs": [
    {
     "data": {
      "text/plain": [
       "[DoubleExcitation(0.27324054462951564, wires=[0, 1, 2, 3])]"
      ]
     },
     "execution_count": 20,
     "metadata": {},
     "output_type": "execute_result"
    }
   ],
   "source": [
    "h2.vqe_gates"
   ]
  },
  {
   "cell_type": "markdown",
   "metadata": {},
   "source": [
    "Taking the superposition with themselves and the higher/lower energy level (excite/de-excite)"
   ]
  },
  {
   "cell_type": "code",
   "execution_count": 19,
   "metadata": {},
   "outputs": [
    {
     "name": "stdout",
     "output_type": "stream",
     "text": [
      "0: ─╭|Ψ⟩─╭G²(0.27)─┤ ╭<𝓗>\n",
      "1: ─├|Ψ⟩─├G²(0.27)─┤ ├<𝓗>\n",
      "2: ─├|Ψ⟩─├G²(0.27)─┤ ├<𝓗>\n",
      "3: ─╰|Ψ⟩─╰G²(0.27)─┤ ╰<𝓗>\n"
     ]
    }
   ],
   "source": [
    "print(qml.draw(circuit)())"
   ]
  },
  {
   "cell_type": "markdown",
   "metadata": {},
   "source": [
    "## Quantum circuit to find the ground state"
   ]
  },
  {
   "cell_type": "markdown",
   "metadata": {},
   "source": [
    "Given 2 $H$ and 4 qubits, the HF is the superposition of the states\n",
    "$\\alpha\\ket{1100}+\\beta\\ket{0011}$\n",
    "\n",
    "[comment]: # ($\\alpha\\ket{110000}+\\beta\\ket{001100}+\\gamma\\ket{000011}$ this is H3)\n"
   ]
  },
  {
   "cell_type": "code",
   "execution_count": null,
   "metadata": {
    "collapsed": false,
    "jupyter": {
     "outputs_hidden": false
    }
   },
   "outputs": [],
   "source": [
    "def circuit(params, wires):\n",
    "    qml.AllSinglesDoubles(params, wires, hf, singles, doubles)"
   ]
  },
  {
   "cell_type": "markdown",
   "metadata": {},
   "source": [
    "The circuit above prepares trial states for the $\\mathrm{H}_2$ molecule\n",
    "of the form:\n",
    "\n",
    "$$\\vert \\Psi(\\theta) \\rangle =\n",
    "c_\\mathrm{HF}(\\theta) \\vert 1100 \\rangle\n",
    "+ c_{0123}(\\theta) \\vert 0011 \\rangle\n",
    "+ c_{02}(\\theta) \\vert 0110 \\rangle\n",
    "+ c_{13}(\\theta) \\vert 1001 \\rangle,$$\n",
    "\n",
    "where the coefficients $c$ are functions of the variational parameters\n",
    "$\\theta = (\\theta_1, \\theta_2, \\theta_3)$ to be optimized by the VQE\n",
    "algorithm. Note that the prepared state $\\vert \\Psi(\\theta) \\rangle$ is\n",
    "a superposition of the Hartree-Fock (HF) state with all possible single\n",
    "and double excitations that preserve the spin projection of the HF\n",
    "reference state.\n"
   ]
  },
  {
   "cell_type": "markdown",
   "metadata": {},
   "source": [
    "Running the VQE simulation\n",
    "==========================\n",
    "\n",
    "Now we proceed to optimize the variational parameters. First, we define\n",
    "the device, in this case a qubit simulator:\n"
   ]
  },
  {
   "cell_type": "code",
   "execution_count": null,
   "metadata": {
    "collapsed": false,
    "jupyter": {
     "outputs_hidden": false
    }
   },
   "outputs": [],
   "source": [
    "@qml.qnode(dev, interface=\"autograd\")\n",
    "def circuit(params, obs, wires):\n",
    "    qml.BasisState(hf, wires=wires)\n",
    "    qml.DoubleExcitation(params[0], wires=[0, 1, 2, 3])\n",
    "    qml.DoubleExcitation(params[1], wires=[0, 1, 4, 5])\n",
    "\n",
    "    return qml.expval(obs)"
   ]
  },
  {
   "cell_type": "markdown",
   "metadata": {},
   "source": [
    "As a reminder, we also built the total spin operator $\\hat{S}^2$ for\n",
    "which we can now define a function to compute its expectation value:\n"
   ]
  },
  {
   "cell_type": "code",
   "execution_count": null,
   "metadata": {
    "collapsed": false,
    "jupyter": {
     "outputs_hidden": false
    }
   },
   "outputs": [],
   "source": [
    "@qml.qnode(dev, interface=\"autograd\")\n",
    "def S2_exp_value(params):\n",
    "    circuit(params, wires=range(qubits))\n",
    "    return qml.expval(S2)"
   ]
  },
  {
   "cell_type": "markdown",
   "metadata": {},
   "source": [
    "The total spin $S$ of the trial state can be obtained from the\n",
    "expectation value $\\langle \\hat{S}^2 \\rangle$ as\n",
    "\n",
    "$$S = -\\frac{1}{2} + \\sqrt{\\frac{1}{4} + \\langle \\hat{S}^2 \\rangle}.$$\n",
    "\n",
    "We define a function to compute the total spin.\n"
   ]
  },
  {
   "cell_type": "code",
   "execution_count": null,
   "metadata": {
    "collapsed": false,
    "jupyter": {
     "outputs_hidden": false
    }
   },
   "outputs": [],
   "source": [
    "def total_spin(params):\n",
    "    return -0.5 + np.sqrt(1 / 4 + S2_exp_value(params))"
   ]
  },
  {
   "cell_type": "markdown",
   "metadata": {},
   "source": [
    "Now, we proceed to minimize the cost function to find the ground state.\n",
    "We define the classical optimizer and initialize the circuit parameters.\n"
   ]
  },
  {
   "cell_type": "code",
   "execution_count": null,
   "metadata": {
    "collapsed": false,
    "jupyter": {
     "outputs_hidden": false
    }
   },
   "outputs": [],
   "source": [
    "opt = qml.GradientDescentOptimizer(stepsize=0.8)\n",
    "np.random.seed(0)  # for reproducibility\n",
    "theta = np.random.normal(0, np.pi, len(singles) + len(doubles), requires_grad=True)\n",
    "print(theta)"
   ]
  },
  {
   "cell_type": "markdown",
   "metadata": {},
   "source": [
    "We carry out the optimization over a maximum of 100 steps, aiming to\n",
    "reach a convergence tolerance of $10^{-6}$ for the value of the cost\n",
    "function.\n"
   ]
  },
  {
   "cell_type": "code",
   "execution_count": null,
   "metadata": {
    "collapsed": false,
    "jupyter": {
     "outputs_hidden": false
    }
   },
   "outputs": [],
   "source": [
    "max_iterations = 100\n",
    "conv_tol = 1e-06\n",
    "\n",
    "for n in range(max_iterations):\n",
    "\n",
    "    theta, prev_energy = opt.step_and_cost(cost_fn, theta)\n",
    "\n",
    "    energy = cost_fn(theta)\n",
    "    spin = total_spin(theta)\n",
    "\n",
    "    conv = np.abs(energy - prev_energy)\n",
    "\n",
    "    if n % 4 == 0:\n",
    "        print(f\"Step = {n}, Energy = {energy:.8f} Ha, S = {spin:.4f}\")\n",
    "\n",
    "    if conv <= conv_tol:\n",
    "        break\n",
    "\n",
    "print(\"\\n\" f\"Final value of the ground-state energy = {energy:.8f} Ha\")\n",
    "print(\"\\n\" f\"Optimal value of the circuit parameters = {theta}\")"
   ]
  },
  {
   "cell_type": "markdown",
   "metadata": {},
   "source": [
    "As a result, we have estimated the lowest-energy state of the hydrogen\n",
    "molecule with total spin $S = 0$ which corresponds to the ground state.\n",
    "\n",
    "Finding the lowest-lying excited state with $S=1$\n",
    "=================================================\n",
    "\n",
    "In the last part of the tutorial, we will use VQE to find the\n",
    "lowest-lying excited state of the hydrogen molecule with total spin\n",
    "$S=1$. In this case, we use the\n",
    "`~.pennylane.qchem.excitations`{.interpreted-text role=\"func\"} function\n",
    "to generate excitations whose total-spin projection differs by the\n",
    "quantity `delta_sz=1` with respect to the Hartree-Fock state.\n"
   ]
  },
  {
   "cell_type": "code",
   "execution_count": null,
   "metadata": {
    "collapsed": false,
    "jupyter": {
     "outputs_hidden": false
    }
   },
   "outputs": [],
   "source": [
    "singles, doubles = qml.qchem.excitations(electrons, qubits, delta_sz=1)\n",
    "print(singles)\n",
    "print(doubles)"
   ]
  },
  {
   "cell_type": "markdown",
   "metadata": {},
   "source": [
    "For the $\\mathrm{H}_2$ molecule in a minimal basis set there are no\n",
    "double excitations, but only a spin-flip single excitation from qubit 1\n",
    "to 2. In this case, the circuit will contain only one\n",
    "`~.pennylane.SingleExcitation`{.interpreted-text role=\"class\"}\n",
    "operation. Additionally, as we want to probe the excited state of the\n",
    "hydrogen molecule, we initialize the qubit register to the state\n",
    "$\\vert 0011 \\rangle$.\n"
   ]
  },
  {
   "cell_type": "code",
   "execution_count": null,
   "metadata": {
    "collapsed": false,
    "jupyter": {
     "outputs_hidden": false
    }
   },
   "outputs": [],
   "source": [
    "def circuit(params, wires):\n",
    "    qml.AllSinglesDoubles(params, wires, np.flip(hf), singles, doubles)"
   ]
  },
  {
   "cell_type": "markdown",
   "metadata": {},
   "source": [
    "This allows us to prepare trial states of the form\n",
    "\n",
    "$$\\vert \\Psi(\\theta) \\rangle = c_{03}(\\theta) \\vert 0101 \\rangle\n",
    "+ c_{0123}(\\theta) \\vert 0011 \\rangle,$$\n",
    "\n",
    "where the first term $\\vert 0101 \\rangle$ encodes a spin-flip excitation\n",
    "with $S_z=-1$ and the second term is a double excitation with $S_z=0$.\n",
    "Since an eigenstate of the electronic Hamiltonian cannot contain a\n",
    "superposition of states with different total-spin projections, the\n",
    "double excitation coefficient should vanish as the VQE algorithm\n",
    "minimizes the cost function. The optimized state will correspond to the\n",
    "lowest-energy state with spin quantum numbers $S=1, S_z=-1$.\n",
    "\n",
    "Now, we define the new functions to compute the expectation values of\n",
    "the Hamiltonian and the total spin operator for the new circuit.\n"
   ]
  },
  {
   "cell_type": "code",
   "execution_count": null,
   "metadata": {
    "collapsed": false,
    "jupyter": {
     "outputs_hidden": false
    }
   },
   "outputs": [],
   "source": [
    "@qml.qnode(dev, interface=\"autograd\")\n",
    "def cost_fn(params):\n",
    "    circuit(params, wires=range(qubits))\n",
    "    return qml.expval(H)\n",
    "\n",
    "\n",
    "@qml.qnode(dev, interface=\"autograd\")\n",
    "def S2_exp_value(params):\n",
    "    circuit(params, wires=range(qubits))\n",
    "    return qml.expval(S2)"
   ]
  },
  {
   "cell_type": "markdown",
   "metadata": {},
   "source": [
    "Finally, we generate the new set of initial parameters, and proceed with\n",
    "the VQE algorithm to optimize the variational circuit.\n"
   ]
  },
  {
   "cell_type": "code",
   "execution_count": null,
   "metadata": {
    "collapsed": false,
    "jupyter": {
     "outputs_hidden": false
    }
   },
   "outputs": [],
   "source": [
    "np.random.seed(0)\n",
    "theta = np.random.normal(0, np.pi, len(singles) + len(doubles), requires_grad=True)\n",
    "\n",
    "max_iterations = 100\n",
    "conv_tol = 1e-06\n",
    "\n",
    "for n in range(max_iterations):\n",
    "\n",
    "    theta, prev_energy = opt.step_and_cost(cost_fn, theta)\n",
    "\n",
    "    energy = cost_fn(theta)\n",
    "    spin = total_spin(theta)\n",
    "\n",
    "    conv = np.abs(energy - prev_energy)\n",
    "\n",
    "    if n % 4 == 0:\n",
    "        print(f\"Step = {n}, Energy = {energy:.8f} Ha, S = {spin:.4f}\")\n",
    "\n",
    "    if conv <= conv_tol:\n",
    "        break\n",
    "\n",
    "print(\"\\n\" f\"Final value of the energy = {energy:.8f} Ha\")\n",
    "print(\"\\n\" f\"Optimal value of the circuit parameters = {theta}\")"
   ]
  },
  {
   "cell_type": "markdown",
   "metadata": {},
   "source": [
    "As expected, the VQE algorithms has found the lowest-energy state with\n",
    "total spin $S=1$ which is an excited state of the hydrogen molecule.\n"
   ]
  },
  {
   "cell_type": "markdown",
   "metadata": {},
   "source": [
    "### Running in a real quantum computer"
   ]
  }
 ],
 "metadata": {
  "kernelspec": {
   "display_name": "Python 3 (ipykernel)",
   "language": "python",
   "name": "python3"
  },
  "language_info": {
   "codemirror_mode": {
    "name": "ipython",
    "version": 3
   },
   "file_extension": ".py",
   "mimetype": "text/x-python",
   "name": "python",
   "nbconvert_exporter": "python",
   "pygments_lexer": "ipython3",
   "version": "3.10.4"
  }
 },
 "nbformat": 4,
 "nbformat_minor": 4
}
