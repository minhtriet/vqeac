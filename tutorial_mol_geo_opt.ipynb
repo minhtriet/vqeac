{
  "cells": [
    {
      "cell_type": "code",
      "execution_count": null,
      "metadata": {
        "collapsed": false
      },
      "outputs": [],
      "source": [
        "# This cell is added by sphinx-gallery\n# It can be customized to whatever you like\n%matplotlib inline"
      ]
    },
    {
      "cell_type": "markdown",
      "metadata": {},
      "source": [
        "Optimization of molecular geometries\n====================================\n\n::: {.meta}\n:property=\\\"og:description\\\": Find the equilibrium geometry of a\nmolecule :property=\\\"og:image\\\":\n<https://pennylane.ai/qml/_static/demonstration_assets//fig_pes.png>\n:::\n\n::: {.related}\ntutorial\\_quantum\\_chemistry Building molecular Hamiltonians\ntutorial\\_vqe A brief overview of VQE tutorial\\_givens\\_rotations Givens\nrotations for quantum chemistry\n:::\n\n*Author: Alain Delgado --- Posted: 30 June 2021. Last updated: 25 June\n2022.*\n\nPredicting the most stable arrangement of atoms in a molecule is one of\nthe most important tasks in quantum chemistry. Essentially, this is an\noptimization problem where the total energy of the molecule is minimized\nwith respect to the positions of the atomic nuclei. The molecular\ngeometry obtained from this calculation is in fact the starting point\nfor many simulations of molecular properties. If the geometry is\ninaccurate, then any calculations that rely on it may also be\ninaccurate.\n\nSince the nuclei are much heavier than the electrons, we can treat them\nas point particles clamped to their positions. Under this assumption,\nthe total energy of the molecule $E(x)$ depends on the nuclear\ncoordinates $x$, which define the potential energy surface. Solving the\nstationary problem $\\nabla_x E(x) = 0$ corresponds to molecular geometry\noptimization and the optimized nuclear coordinates determine the\nequilibrium geometry of the molecule. The figure below illustrates these\nconcepts for the [trihydrogen\ncation](https://en.wikipedia.org/wiki/Trihydrogen_cation). Its\nequilibrium geometry in the electronic ground state corresponds to the\nminimum energy of the potential energy surface. At this minimum, the\nthree hydrogen atoms are located at the vertices of an equilateral\ntriangle whose side length is the optimized bond length $d$.\n\n| \n\n![](/_static/demonstration_assets/mol_geo_opt/fig_pes.png){.align-center\nwidth=\"50.0%\"}\n\n| \n\nIn this tutorial, you will learn how to recast the problem of finding\nthe equilibrium geometry of a molecule in terms of a general variational\nquantum algorithm. The central idea is to consider explicitly that the\ntarget electronic Hamiltonian $H(x)$ is a **parametrized** observable\nthat depends on the nuclear coordinates $x$. This implies that the\nobjective function, defined by the expectation value of the Hamiltonian\ncomputed in the trial state prepared by a quantum computer, depends on\nboth the quantum circuit and the Hamiltonian parameters.\n\nThe quantum algorithm in a nutshell\n-----------------------------------\n\nThe goal of the variational algorithm is to find the global minimum of\nthe cost function\n$g(\\theta, x) = \\langle \\Psi(\\theta) \\vert H(x) \\vert \\Psi(\\theta) \\rangle$\nwith respect to the circuit parameters $\\theta$ and the nuclear\ncoordinates $x$ entering the electronic Hamiltonian of the molecule. To\nthat end, we use a gradient-descent method and follow a **joint**\noptimization scheme where the gradients of the cost function with\nrespect to circuit and Hamiltonian parameters are simultaneously\ncomputed at each step. This approach does not require nested\noptimization of the state parameters for each set of nuclear\ncoordinates, as occurs in classical algorithms for molecular geometry\noptimization, where the energy minimum is searched for along the\npotential energy surface of the electronic state.\n\nIn this tutorial we demonstrate how to use PennyLane to implement\nquantum optimization of molecular geometries. The algorithm consists of\nthe following steps:\n\n1.  Build the parametrized electronic Hamiltonian $H(x)$ of the\n    molecule.\n\n2.  Design the variational quantum circuit to prepare the electronic\n    trial state of the molecule, $\\vert \\Psi(\\theta) \\rangle$.\n\n3.  Define the cost function\n    $g(\\theta, x) = \\langle \\Psi(\\theta) \\vert H(x) \\vert\n    \\Psi(\\theta) \\rangle$.\n\n4.  Initialize the variational parameters $\\theta$ and $x$. Perform a\n    joint optimization of the circuit and Hamiltonian parameters to\n    minimize the cost function $g(\\theta, x)$. The gradient with respect\n    to the circuit parameters can be obtained using a variety of\n    established methods, which are natively supported in PennyLane. The\n    gradients with respect to the nuclear coordinates can be computed\n    using the formula\n\n    $$\\nabla_x g(\\theta, x) = \\langle \\Psi(\\theta) \\vert \\nabla_x H(x) \\vert \\Psi(\\theta) \\rangle.$$\n\nOnce the optimization is finalized, the circuit parameters determine the\nenergy of the electronic state, and the nuclear coordinates determine\nthe equilibrium geometry of the molecule in this state.\n\nLet\\'s get started! \u269b\ufe0f\n\nBuilding the parametrized electronic Hamiltonian\n------------------------------------------------\n\nIn this example, we want to optimize the geometry of the trihydrogen\ncation $\\mathrm{H}_3^+$, described in a minimal basis set, where two\nelectrons are shared between three hydrogen atoms (see figure above).\nThe molecule is specified by providing a list with the symbols of the\natomic species and a one-dimensional array with the initial set of\nnuclear coordinates in [atomic\nunits](https://en.wikipedia.org/wiki/Hartree_atomic_units) .\n"
      ]
    },
    {
      "cell_type": "code",
      "execution_count": null,
      "metadata": {
        "collapsed": false
      },
      "outputs": [],
      "source": [
        "from pennylane import numpy as np\n\nsymbols = [\"H\", \"H\", \"H\"]\nx = np.array([0.028, 0.054, 0.0, 0.986, 1.610, 0.0, 1.855, 0.002, 0.0], requires_grad=True)"
      ]
    },
    {
      "cell_type": "markdown",
      "metadata": {},
      "source": [
        "Next, we need to build the parametrized electronic Hamiltonian $H(x)$.\nWe use the Jordan-Wigner transformation to represent the fermionic\nHamiltonian as a linear combination of Pauli operators,\n\n$$H(x) = \\sum_j h_j(x) \\prod_i^{N} \\sigma_i^{(j)}.$$\n\nThe expansion coefficients $h_j(x)$ carry the dependence on the\ncoordinates $x$, the operators $\\sigma_i$ represent the Pauli group\n$\\{I, X, Y, Z\\}$, and $N$ is the number of qubits required to represent\nthe electronic wave function.\n\nWe define the function `H(x)` to build the parametrized Hamiltonian of\nthe trihydrogen cation using the\n`~.pennylane.qchem.molecular_hamiltonian`{.interpreted-text role=\"func\"}\nfunction.\n"
      ]
    },
    {
      "cell_type": "code",
      "execution_count": null,
      "metadata": {
        "collapsed": false
      },
      "outputs": [],
      "source": [
        "import pennylane as qml\n\n\ndef H(x):\n    return qml.qchem.molecular_hamiltonian(symbols, x, charge=1)[0]"
      ]
    },
    {
      "cell_type": "markdown",
      "metadata": {},
      "source": [
        "The variational quantum circuit\n===============================\n\nHere, we describe the second step of the quantum algorithm: define the\nquantum circuit to prepare the electronic ground-state\n$\\vert \\Psi(\\theta)\\rangle$ of the $\\mathrm{H}_3^+$ molecule.\n\nSix qubits are required to encode the occupation number of the molecular\nspin-orbitals. To capture the effects of electronic correlations, we\nneed to prepare the $N$-qubit system in a superposition of the\nHartree-Fock state $\\vert 110000 \\rangle$ with other states that differ\nby a double- or single-excitation. For example, the state\n$\\vert 000011 \\rangle$ is obtained by exciting two particles from qubits\n0, 1 to 4, 5. Similarly, the state $\\vert 011000 \\rangle$ corresponds to\na single excitation from qubit 0 to 2. This can be done using the\nsingle-excitation and double-excitation gates $G$ and $G^{(2)}$\nimplemented in the form of Givens rotations in PennyLane. For more\ndetails see the tutorial `tutorial_givens_rotations`{.interpreted-text\nrole=\"doc\"}.\n\nIn addition, we use an adaptive algorithm to select the excitation\noperations included in the variational quantum circuit. The algorithm\nproceeds as follows:\n\n1.  Generate the indices of the qubits involved in all single- and\n    double-excitations. For example, the indices of the singly-excited\n    state $\\vert 011000 \\rangle$ are given by the list `[0, 2]`.\n    Similarly, the indices of the doubly-excited state\n    $\\vert 000011 \\rangle$ are `[0, 1, 4, 5]`.\n2.  Construct the circuit using all double-excitation gates. Compute the\n    gradient of the cost function $g(\\theta, x)$ with respect to each\n    double-excitation gate and retain only those with non-zero gradient.\n3.  Include the selected double-excitation gates and repeat the process\n    for the single-excitation gates.\n4.  Build the final variational quantum circuit by including the\n    selected gates.\n\nFor the $\\mathrm{H}_3^+$ molecule in a minimal basis set we have a total\nof eight excitations of the reference state. After applying the adaptive\nalgorithm the final quantum circuit contains only two double-excitation\noperations that act on the qubits `[0, 1, 2, 3]` and `[0, 1, 4, 5]`. The\ncircuit is illustrated in the figure below.\n\n| \n\n![](/_static/demonstration_assets/mol_geo_opt/fig_circuit.png){.align-center\nwidth=\"60.0%\"}\n\n| \n\nTo implement this quantum circuit, we use the\n`~.pennylane.qchem.hf_state`{.interpreted-text role=\"func\"} function to\ngenerate the occupation-number vector representing the Hartree-Fock\nstate\n"
      ]
    },
    {
      "cell_type": "code",
      "execution_count": null,
      "metadata": {
        "collapsed": false
      },
      "outputs": [],
      "source": [
        "hf = qml.qchem.hf_state(electrons=2, orbitals=6)\nprint(hf)"
      ]
    },
    {
      "cell_type": "markdown",
      "metadata": {},
      "source": [
        "The `hf` array is used by the `~.pennylane.BasisState`{.interpreted-text\nrole=\"class\"} operation to initialize the qubit register. Then, the\n`~.pennylane.DoubleExcitation`{.interpreted-text role=\"class\"}\noperations are applied First, we define the quantum device used to\ncompute the expectation value. In this example, we use the\n`lightning.qubit` simulator:\n"
      ]
    },
    {
      "cell_type": "code",
      "execution_count": null,
      "metadata": {
        "collapsed": false
      },
      "outputs": [],
      "source": [
        "num_wires = 6\ndev = qml.device(\"lightning.qubit\", wires=num_wires)\n\n\n@qml.qnode(dev, interface=\"autograd\")\ndef circuit(params, obs, wires):\n    qml.BasisState(hf, wires=wires)\n    qml.DoubleExcitation(params[0], wires=[0, 1, 2, 3])\n    qml.DoubleExcitation(params[1], wires=[0, 1, 4, 5])\n\n    return qml.expval(obs)"
      ]
    },
    {
      "cell_type": "markdown",
      "metadata": {},
      "source": [
        "This circuit prepares the trial state\n\n$$\\vert\\Psi(\\theta_1, \\theta_2)\\rangle =\n\\mathrm{cos}(\\theta_1)\\mathrm{cos}(\\theta_2)\\vert110000\\rangle -\n\\mathrm{cos}(\\theta_1)\\mathrm{sin}(\\theta_2)\\vert000011\\rangle -\n\\mathrm{sin}(\\theta_1)\\vert001100\\rangle,$$\n\nwhere $\\theta_1$ and $\\theta_2$ are the circuit parameters that need to\nbe optimized to find the ground-state energy of the molecule.\n\nThe cost function and the nuclear gradients\n===========================================\n\nThe third step of the algorithm is to define the cost function\n$g(\\theta, x) = \\langle \\Psi(\\theta) \\vert H(x) \\vert\\Psi(\\theta) \\rangle$.\nIt evaluates the expectation value of the parametrized Hamiltonian\n$H(x)$ in the trial state $\\vert\\Psi(\\theta)\\rangle$.\n"
      ]
    },
    {
      "cell_type": "markdown",
      "metadata": {},
      "source": [
        "Next, we define the `cost` function $g(\\theta, x)$ which depends on both\nthe circuit and the Hamiltonian parameters. Specifically we consider the\nexpectation values of the Hamiltonian.\n"
      ]
    },
    {
      "cell_type": "code",
      "execution_count": null,
      "metadata": {
        "collapsed": false
      },
      "outputs": [],
      "source": [
        "def cost(params, x):\n    hamiltonian = H(x)\n    return circuit(params, obs=hamiltonian, wires=range(num_wires))"
      ]
    },
    {
      "cell_type": "markdown",
      "metadata": {},
      "source": [
        "We minimize the cost function $g(\\theta, x)$ using a gradient-based\nmethod, and compute the gradients with respect to both the circuit\nparameters $\\theta$ and the nuclear coordinates $x$. The circuit\ngradients are computed analytically using the automatic differentiation\ntechniques available in PennyLane. The nuclear gradients are evaluated\nby taking the expectation value of the gradient of the electronic\nHamiltonian,\n\n$$\\nabla_x g(\\theta, x) = \\langle \\Psi(\\theta) \\vert \\nabla_x H(x) \\vert \\Psi(\\theta) \\rangle.$$\n\nWe use the `finite_diff`{.interpreted-text role=\"func\"} function to\ncompute the gradient of the Hamiltonian using a central-difference\napproximation. Then, we evaluate the expectation value of the gradient\ncomponents $\\frac{\\partial H(x)}{\\partial x_i}$. This is implemented by\nthe function `grad_x`:\n"
      ]
    },
    {
      "cell_type": "code",
      "execution_count": null,
      "metadata": {
        "collapsed": false
      },
      "outputs": [],
      "source": [
        "def finite_diff(f, x, delta=0.01):\n    \"\"\"Compute the central-difference finite difference of a function\"\"\"\n    gradient = []\n\n    for i in range(len(x)):\n        shift = np.zeros_like(x)\n        shift[i] += 0.5 * delta\n        res = (f(x + shift) - f(x - shift)) * delta**-1\n        gradient.append(res)\n\n    return gradient\n\n\ndef grad_x(params, x):\n    grad_h = finite_diff(H, x)\n    grad = [circuit(params, obs=obs, wires=range(num_wires)) for obs in grad_h]\n    return np.array(grad)"
      ]
    },
    {
      "cell_type": "markdown",
      "metadata": {},
      "source": [
        "Optimization of the molecular geometry\n======================================\n\nFinally, we proceed to minimize our cost function to find the ground\nstate equilibrium geometry of the $\\mathrm{H}_3^+$ molecule. As a\nreminder, the circuit parameters and the nuclear coordinates will be\njointly optimized at each optimization step. This approach does not\nrequire nested VQE optimization of the circuit parameters for each set\nof nuclear coordinates.\n\nWe start by defining the classical optimizers:\n"
      ]
    },
    {
      "cell_type": "code",
      "execution_count": null,
      "metadata": {
        "collapsed": false
      },
      "outputs": [],
      "source": [
        "opt_theta = qml.GradientDescentOptimizer(stepsize=0.4)\nopt_x = qml.GradientDescentOptimizer(stepsize=0.8)"
      ]
    },
    {
      "cell_type": "markdown",
      "metadata": {},
      "source": [
        "Next, we initialize the circuit parameters $\\theta$. The angles\n$\\theta_1$ and $\\theta_2$ are set to zero so that the initial state\n$\\vert\\Psi(\\theta_1, \\theta_2)\\rangle$ is the Hartree-Fock state.\n"
      ]
    },
    {
      "cell_type": "code",
      "execution_count": null,
      "metadata": {
        "collapsed": false
      },
      "outputs": [],
      "source": [
        "theta = np.array([0.0, 0.0], requires_grad=True)"
      ]
    },
    {
      "cell_type": "markdown",
      "metadata": {},
      "source": [
        "The initial set of nuclear coordinates $x$, defined at the beginning of\nthe tutorial, was computed classically within the Hartree-Fock\napproximation using the GAMESS program. This is a natural choice for the\nstarting geometry that we are aiming to improve due to the electronic\ncorrelation effects included in the trial state\n$\\vert\\Psi(\\theta)\\rangle$.\n\nWe carry out the optimization over a maximum of 100 steps. The circuit\nparameters and the nuclear coordinates are optimized until the maximum\ncomponent of the nuclear gradient $\\nabla_x g(\\theta,x)$ is less than or\nequal to $10^{-5}$ Hartree/Bohr. Typically, this is the convergence\ncriterion used for optimizing molecular geometries in quantum chemistry\nsimulations.\n"
      ]
    },
    {
      "cell_type": "code",
      "execution_count": null,
      "metadata": {
        "collapsed": false
      },
      "outputs": [],
      "source": [
        "from functools import partial\n\n# store the values of the cost function\nenergy = []\n\n# store the values of the bond length\nbond_length = []\n\n# Factor to convert from Bohrs to Angstroms\nbohr_angs = 0.529177210903\n\nfor n in range(100):\n\n    # Optimize the circuit parameters\n    theta.requires_grad = True\n    x.requires_grad = False\n    theta, _ = opt_theta.step(cost, theta, x)\n\n    # Optimize the nuclear coordinates\n    x.requires_grad = True\n    theta.requires_grad = False\n    _, x = opt_x.step(cost, theta, x, grad_fn=grad_x)\n\n    energy.append(cost(theta, x))\n    bond_length.append(np.linalg.norm(x[0:3] - x[3:6]) * bohr_angs)\n\n    if n % 4 == 0:\n        print(f\"Step = {n},  E = {energy[-1]:.8f} Ha,  bond length = {bond_length[-1]:.5f} A\")\n\n    # Check maximum component of the nuclear gradient\n    if np.max(grad_x(theta, x)) <= 1e-05:\n        break\n\nprint(\"\\n\" f\"Final value of the ground-state energy = {energy[-1]:.8f} Ha\")\nprint(\"\\n\" \"Ground-state equilibrium geometry\")\nprint(\"%s %4s %8s %8s\" % (\"symbol\", \"x\", \"y\", \"z\"))\nfor i, atom in enumerate(symbols):\n    print(f\"  {atom}    {x[3 * i]:.4f}   {x[3 * i + 1]:.4f}   {x[3 * i + 2]:.4f}\")"
      ]
    },
    {
      "cell_type": "markdown",
      "metadata": {},
      "source": [
        "Next, we plot the values of the ground state energy of the molecule and\nthe bond length as a function of the optimization step.\n"
      ]
    },
    {
      "cell_type": "code",
      "execution_count": null,
      "metadata": {
        "collapsed": false
      },
      "outputs": [],
      "source": [
        "import matplotlib.pyplot as plt\n\nfig = plt.figure()\nfig.set_figheight(5)\nfig.set_figwidth(12)\n\n# Add energy plot on column 1\nE_fci = -1.27443765658\nE_vqe = np.array(energy)\nax1 = fig.add_subplot(121)\nax1.plot(range(n + 1), E_vqe - E_fci, \"go-\", ls=\"dashed\")\nax1.plot(range(n + 1), np.full(n + 1, 0.001), color=\"red\")\nax1.set_xlabel(\"Optimization step\", fontsize=13)\nax1.set_ylabel(\"$E_{VQE} - E_{FCI}$ (Hartree)\", fontsize=13)\nax1.text(5, 0.0013, r\"Chemical accuracy\", fontsize=13)\nplt.yscale(\"log\")\nplt.xticks(fontsize=12)\nplt.yticks(fontsize=12)\n\n# Add bond length plot on column 2\nd_fci = 0.986\nax2 = fig.add_subplot(122)\nax2.plot(range(n + 1), bond_length, \"go-\", ls=\"dashed\")\nax2.plot(range(n + 1), np.full(n + 1, d_fci), color=\"red\")\nax2.set_ylim([0.965, 0.99])\nax2.set_xlabel(\"Optimization step\", fontsize=13)\nax2.set_ylabel(\"bond length ($\\AA$)\", fontsize=13)\nax2.text(5, 0.9865, r\"Equilibrium bond length\", fontsize=13)\nplt.xticks(fontsize=12)\nplt.yticks(fontsize=12)\n\nplt.subplots_adjust(wspace=0.3)\nplt.show()"
      ]
    },
    {
      "cell_type": "markdown",
      "metadata": {},
      "source": [
        "| \n\nNotice that despite the fact that the ground-state energy is already\nconverged within chemical accuracy ($0.0016$ Ha) after the fourth\niteration, more optimization steps are required to find the equilibrium\nbond length of the molecule.\n\nThe figure below animates snapshots of the atomic structure of the\ntrihydrogen cation as the quantum algorithm was searching for the\nequilibrium geometry. For visualization purposes, the initial nuclear\ncoordinates were generated by perturbing the HF geometry. The quantum\nalgorithm is able to find the correct equilibrium geometry of the\n$\\mathrm{H}_3^+$ molecule where the three H atoms are located at the\nvertices of an equilateral triangle.\n\n| \n\n![](/_static/demonstration_assets/mol_geo_opt/fig_movie.gif){.align-center\nwidth=\"50.0%\"}\n\n| \n\nTo summarize, we have shown how the scope of variational quantum\nalgorithms can be extended to perform quantum simulations of molecules\ninvolving both the electronic and the nuclear degrees of freedom. The\njoint optimization scheme described here is a generalization of the\nusual VQE algorithm where only the electronic state is parametrized.\nExtending the applicability of the variational quantum algorithms to\ntarget parametrized Hamiltonians could be also relevant to simulate the\noptical properties of molecules where the fermionic observables depend\nalso on the electric field of the incoming radiation[^1].\n\nReferences\n==========\n\nAbout the author\n================\n\n[^1]: P. Pulay. \\\"Analytical derivative methods in quantum chemistry\\\".\n    [Advances in Chemical Sciences\n    (1987)](https://onlinelibrary.wiley.com/doi/10.1002/9780470142943.ch4)\n"
      ]
    }
  ],
  "metadata": {
    "kernelspec": {
      "display_name": "Python 3",
      "language": "python",
      "name": "python3"
    },
    "language_info": {
      "codemirror_mode": {
        "name": "ipython",
        "version": 3
      },
      "file_extension": ".py",
      "mimetype": "text/x-python",
      "name": "python",
      "nbconvert_exporter": "python",
      "pygments_lexer": "ipython3",
      "version": "3.10.13"
    }
  },
  "nbformat": 4,
  "nbformat_minor": 0
}