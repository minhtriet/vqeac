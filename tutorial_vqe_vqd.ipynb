{
 "cells": [
  {
   "cell_type": "code",
   "execution_count": 1,
   "metadata": {
    "collapsed": false,
    "jupyter": {
     "outputs_hidden": false
    }
   },
   "outputs": [],
   "source": [
    "# This cell is added by sphinx-gallery\n",
    "# It can be customized to whatever you like\n",
    "%matplotlib inline"
   ]
  },
  {
   "cell_type": "markdown",
   "metadata": {},
   "source": [
    "Ground State and Excited State of H2 Molecule using VQE and VQD\n",
    "===============================================================\n",
    "\n",
    "Understanding the ground state and excited state energies of quantum\n",
    "systems is paramount in various scientific fields. The **ground state\n",
    "energy** represents the lowest energy configuration of a system, crucial\n",
    "for predicting its stability, chemical reactivity, and electronic\n",
    "properties. **Excited state energies**, on the other hand, reveal the\n",
    "system\\'s potential for transitions to higher energy levels, essential\n",
    "in fields like spectroscopy, materials science, and quantum computing.\n",
    "Both ground and excited state energies provide insights into fundamental\n",
    "properties of matter, guiding research in diverse areas such as drug\n",
    "discovery, semiconductor physics, and renewable energy technologies.\n",
    "\n",
    "In this demo, we solve this problem by employ two quantum algorithms,\n",
    "the Variational Quantum Eigensolver [#Vqe] to find the energy of\n",
    "the ground state, and the Variational Quantum Deflation [#Vqd] to\n",
    "find the excited state based on the above result. We recommend readers\n",
    "to familiarize themselves with the [VQE tutorial from\n",
    "Pennylane](https://pennylane.ai/qml/demos/tutorial_vqe/).\n"
   ]
  },
  {
   "cell_type": "markdown",
   "metadata": {},
   "source": [
    "Defining the Hydrogen molecule\n",
    "==============================\n",
    "\n",
    "The [datasets]{.title-ref} package from Pennylane makes it a breeze to\n",
    "find the Hamiltonian and the Hartree Fock state of some molecules, which\n",
    "fortunately contain $H_2$.\n"
   ]
  },
  {
   "cell_type": "code",
   "execution_count": 2,
   "metadata": {
    "collapsed": false,
    "jupyter": {
     "outputs_hidden": false
    }
   },
   "outputs": [
    {
     "name": "stdout",
     "output_type": "stream",
     "text": [
      "Number of qubits =  4\n",
      "The Hamiltonian is    (-0.22250914236600539) [Z2]\n",
      "+ (-0.22250914236600539) [Z3]\n",
      "+ (-0.09963387941370971) [I0]\n",
      "+ (0.17110545123720225) [Z1]\n",
      "+ (0.17110545123720233) [Z0]\n",
      "+ (0.12051027989546245) [Z0 Z2]\n",
      "+ (0.12051027989546245) [Z1 Z3]\n",
      "+ (0.16584090244119712) [Z0 Z3]\n",
      "+ (0.16584090244119712) [Z1 Z2]\n",
      "+ (0.16859349595532533) [Z0 Z1]\n",
      "+ (0.1743207725924201) [Z2 Z3]\n",
      "+ (-0.04533062254573469) [Y0 Y1 X2 X3]\n",
      "+ (-0.04533062254573469) [X0 X1 Y2 Y3]\n",
      "+ (0.04533062254573469) [Y0 X1 X2 Y3]\n",
      "+ (0.04533062254573469) [X0 Y1 Y2 X3]\n"
     ]
    }
   ],
   "source": [
    "import jax\n",
    "import optax\n",
    "import pennylane as qml\n",
    "from pennylane import numpy as np\n",
    "\n",
    "jax.config.update(\"jax_platform_name\", \"cpu\")\n",
    "jax.config.update(\"jax_enable_x64\", True)\n",
    "\n",
    "h2_dataset = qml.data.load(\"qchem\", molname=\"H2\", bondlength=0.742, basis=\"STO-3G\")\n",
    "h2 = h2_dataset[0]\n",
    "H, qubits = h2.hamiltonian, len(h2.hamiltonian.wires)\n",
    "print(\"Number of qubits = \", qubits)\n",
    "print(\"The Hamiltonian is \", H)"
   ]
  },
  {
   "cell_type": "markdown",
   "metadata": {},
   "source": [
    "The [hf\\_state]{.title-ref} will contain the orbital config with the\n",
    "lowest energy. Let\\'s see what it is.\n"
   ]
  },
  {
   "cell_type": "code",
   "execution_count": 3,
   "metadata": {
    "collapsed": false,
    "jupyter": {
     "outputs_hidden": false
    }
   },
   "outputs": [
    {
     "data": {
      "text/plain": [
       "tensor([1, 1, 0, 0], dtype=int64, requires_grad=True)"
      ]
     },
     "execution_count": 3,
     "metadata": {},
     "output_type": "execute_result"
    }
   ],
   "source": [
    "h2.hf_state"
   ]
  },
  {
   "cell_type": "markdown",
   "metadata": {},
   "source": [
    "In the Hartree Fock representation, a qubit with state $1$ means that\n",
    "there is an electron occupying the respective orbital. Chemistry teaches\n",
    "us that the first few orbitals config are\n",
    "$1s^1, 1s^2, 1s^22s^1, 1s^22s^2, ...$. We can see that in $H_2$, we\n",
    "start from the config where the two electrons occupy the lowest two\n",
    "energy levels.\n",
    "\n",
    "Let's also see the gates used to evolve the hf state to the ground state"
   ]
  },
  {
   "cell_type": "code",
   "execution_count": 4,
   "metadata": {},
   "outputs": [
    {
     "data": {
      "text/plain": [
       "[DoubleExcitation(0.27324054462951564, wires=[0, 1, 2, 3])]"
      ]
     },
     "execution_count": 4,
     "metadata": {},
     "output_type": "execute_result"
    }
   ],
   "source": [
    "h2.vqe_gates"
   ]
  },
  {
   "cell_type": "code",
   "execution_count": 5,
   "metadata": {},
   "outputs": [],
   "source": [
    "excitation_angle = 0.27324054462951564"
   ]
  },
  {
   "cell_type": "markdown",
   "metadata": {},
   "source": [
    "Setting expectation for VQE and VQD\n",
    "===================================\n",
    "\n",
    "Before any training takes place, let's first look at some of the\n",
    "empirical measured value. The energy of an atom at $n$ th excitement\n",
    "level is denoted as $E_n$. Unlike computer scientists, in this case\n",
    "physicists starts the value of $n$ from $1$. It is because\n",
    "$E_n=\\frac{E_I}{n^2}$, where $E_I$ is the ionization energy.\n",
    "\n",
    "-   \n",
    "\n",
    "    Ground state energy:\n",
    "\n",
    "    :   -   $H$ atom: $E_1=-13.6eV$\n",
    "        -   $H_2$ molecule: $4.52 eV$ (source: [Florida State\n",
    "            University](https://web1.eng.famu.fsu.edu/~dommelen/quantum/style_a/hmol.html))\n",
    "\n",
    "-   \n",
    "\n",
    "    1st level excitation energy\n",
    "\n",
    "    :   -   $H$ atom: $E_2=\\frac{-13.6}{4}=-3.4eV$\n",
    "        -   Therefore, to transition from $E_1$ to $E_2$ for $H$ atom:\n",
    "            we need $E_1-E_2=10.2eV$\n",
    "\n",
    "There are two units here: $eV$ (electron volt) and $Ha$ (Hatree energy).\n",
    "They both measure energy, just like Joule or calorie but in the scale\n",
    "for basic particles.\n"
   ]
  },
  {
   "cell_type": "code",
   "execution_count": 6,
   "metadata": {
    "collapsed": false,
    "jupyter": {
     "outputs_hidden": false
    }
   },
   "outputs": [],
   "source": [
    "def hatree_energy_to_ev(hatree: float):\n",
    "    return hatree * 27.2107"
   ]
  },
  {
   "cell_type": "markdown",
   "metadata": {},
   "source": [
    "Just like training a neural network, the VQE needs two ingredients to\n",
    "make it works. First we need to define an Ansatz (which plays the role\n",
    "of the neural network), then a loss function.\n"
   ]
  },
  {
   "cell_type": "markdown",
   "metadata": {},
   "source": [
    "Generating the ground state from a dataset \\-\\-\\-\\-\\--\n",
    "\n",
    "Starting from the HF state `[1 1 0 0]`, we will use the Given rotation\n",
    "ansatz below to generate the state with the lowest energy.\n"
   ]
  },
  {
   "cell_type": "code",
   "execution_count": 7,
   "metadata": {
    "collapsed": false,
    "jupyter": {
     "outputs_hidden": false
    }
   },
   "outputs": [
    {
     "name": "stdout",
     "output_type": "stream",
     "text": [
      "0: ─╭|Ψ⟩─╭G²(0.00)─┤ ╭<𝓗>\n",
      "1: ─├|Ψ⟩─├G²(0.00)─┤ ├<𝓗>\n",
      "2: ─├|Ψ⟩─├G²(0.00)─┤ ├<𝓗>\n",
      "3: ─╰|Ψ⟩─╰G²(0.00)─┤ ╰<𝓗>\n"
     ]
    }
   ],
   "source": [
    "dev = qml.device(\"default.qubit\", wires=qubits)\n",
    "\n",
    "\n",
    "@qml.qnode(dev)\n",
    "def circuit_expected(theta):\n",
    "    qml.BasisState(h2.hf_state, wires=range(qubits))\n",
    "    qml.DoubleExcitation(theta, wires=[0, 1, 2, 3])\n",
    "    return qml.expval(H)\n",
    "\n",
    "print(qml.draw(circuit_expected)(0))"
   ]
  },
  {
   "cell_type": "markdown",
   "metadata": {},
   "source": [
    "Let's find the ground energy state"
   ]
  },
  {
   "cell_type": "code",
   "execution_count": 13,
   "metadata": {},
   "outputs": [
    {
     "data": {
      "text/plain": [
       "tensor(-1.13637658, requires_grad=True)"
      ]
     },
     "execution_count": 13,
     "metadata": {},
     "output_type": "execute_result"
    }
   ],
   "source": [
    "gs_energy = circuit_expected(excitation_angle)\n",
    "gs_energy"
   ]
  },
  {
   "cell_type": "markdown",
   "metadata": {},
   "source": [
    "Define the lost function\n",
    "========================\n",
    "\n",
    "Remember that the lost function is the second ingredient. We use the\n",
    "second equation in [this\n",
    "paper](https://www.nature.com/articles/s41524-023-00965-1).\n",
    "\n",
    "$$C_1(\\theta) = \\left\\langle\\Psi(\\theta)|\\hat H |\\Psi (\\theta) \\right\\rangle + \\beta | \\left\\langle \\Psi (\\theta)| \\Psi_0 \\right\\rangle|^2$$\n",
    "\n",
    "At first sight, it might raise some eyebrows for someone from an ML\n",
    "background, because we define the loss function based on the predicted\n",
    "and the ground truth. However, note that we do not have any ground truth\n",
    "value here. In this context, a loss function is just a function that we\n",
    "want to minimize.\n",
    "\n",
    "We can then define a lost function using the VQE and VQD methods. The\n",
    "power of VQD is due to the third postulate of quantum mechanics and the\n",
    "fact that the eigenbasis are orthogonal. Therefore, once we find the\n",
    "parameters through VQE, our loss function only penalized eigenvector in\n",
    "the second term. For this purpose, we implement the function with a\n",
    "quantum technique called [swap\n",
    "test](https://en.wikipedia.org/wiki/Swap_test). Let\\'s see it in action.\n"
   ]
  },
  {
   "cell_type": "code",
   "execution_count": 9,
   "metadata": {
    "collapsed": false,
    "jupyter": {
     "outputs_hidden": false
    }
   },
   "outputs": [],
   "source": [
    "dev_swap = qml.device(\"default.qubit\", wires=qubits * 2 + 1)\n",
    "\n",
    "\n",
    "@qml.qnode(dev_swap)\n",
    "def circuit_loss_2(param):\n",
    "    \"\"\"\n",
    "    Constructs a quantum circuit for finding the excited state using swap test.\n",
    "\n",
    "    Args:\n",
    "    param (float): Rotation angle for the Double Excitation gate, to be optimized.\n",
    "    theta_0 (float): The rotation angle corresponding to ground energy.\n",
    "\n",
    "    Returns:\n",
    "    Probability distribution of measurement outcomes on the 8th wire.\n",
    "\n",
    "    \"\"\"\n",
    "    qml.BasisState(h2.hf_state, wires=range(0, qubits))\n",
    "    qml.BasisState(h2.hf_state, wires=range(qubits, qubits * 2))\n",
    "    for op in h2.vqe_gates:\n",
    "        qml.apply(op)    \n",
    "    qml.DoubleExcitation(param, wires=range(qubits, qubits * 2))\n",
    "    qml.Hadamard(8)\n",
    "    for i in range(0, qubits):\n",
    "        qml.CSWAP([8, i, i + qubits])\n",
    "    qml.Hadamard(8)\n",
    "    return qml.probs(8)"
   ]
  },
  {
   "cell_type": "markdown",
   "metadata": {},
   "source": [
    "Let's preview the circuit\\...\n"
   ]
  },
  {
   "cell_type": "code",
   "execution_count": 10,
   "metadata": {
    "collapsed": false,
    "jupyter": {
     "outputs_hidden": false
    }
   },
   "outputs": [
    {
     "name": "stdout",
     "output_type": "stream",
     "text": [
      "0: ─╭|Ψ⟩─╭G²(0.27)─╭SWAP──────────────────────┤       \n",
      "1: ─├|Ψ⟩─├G²(0.27)─│─────╭SWAP────────────────┤       \n",
      "2: ─├|Ψ⟩─├G²(0.27)─│─────│─────╭SWAP──────────┤       \n",
      "3: ─╰|Ψ⟩─╰G²(0.27)─│─────│─────│─────╭SWAP────┤       \n",
      "4: ─╭|Ψ⟩─╭G²(1.00)─├SWAP─│─────│─────│────────┤       \n",
      "5: ─├|Ψ⟩─├G²(1.00)─│─────├SWAP─│─────│────────┤       \n",
      "6: ─├|Ψ⟩─├G²(1.00)─│─────│─────├SWAP─│────────┤       \n",
      "7: ─╰|Ψ⟩─╰G²(1.00)─│─────│─────│─────├SWAP────┤       \n",
      "8: ──H─────────────╰●────╰●────╰●────╰●─────H─┤  Probs\n"
     ]
    }
   ],
   "source": [
    "print(qml.draw(circuit_loss_2)(param=1))"
   ]
  },
  {
   "cell_type": "markdown",
   "metadata": {},
   "source": [
    "The circuit consists of operations to prepare the initial states for the\n",
    "excited and ground states of $H_2$, apply the Double Excitation gate\n",
    "with the provided parameters, and the swap test. Here we reserve wires 0\n",
    "to 3 for the excited state calculation and wires 4 to 7 for the ground\n",
    "state of $H_2$.\n",
    "\n",
    "Now we will define the loss functions. The first\n",
    "([loss\\_fn\\_1]{.title-ref}) is using VQE to obtain the ground state\n",
    "energy and the second ([loss\\_fn\\_2]{.title-ref}) use VQD to compute the\n",
    "excited energy using the results obtained by optimizing for\n",
    "[loss\\_fn\\_1]{.title-ref}.\n"
   ]
  },
  {
   "cell_type": "code",
   "execution_count": 11,
   "metadata": {
    "collapsed": false,
    "jupyter": {
     "outputs_hidden": false
    }
   },
   "outputs": [],
   "source": [
    "def loss_f(theta, beta):\n",
    "    measurement = circuit_loss_2(theta)\n",
    "    return beta * (measurement[0] - 0.5) / 0.5\n",
    "\n",
    "\n",
    "def optimize(beta):\n",
    "    theta = 0.0\n",
    "\n",
    "    # store the values of the cost function\n",
    "    energy = [loss_f(theta, beta)]\n",
    "    conv_tol = 1e-6\n",
    "    max_iterations = 100\n",
    "    opt = optax.sgd(learning_rate=0.4)\n",
    "\n",
    "    # store the values of the circuit parameter\n",
    "    angle = [theta]\n",
    "\n",
    "    opt_state = opt.init(theta)\n",
    "\n",
    "    for n in range(max_iterations):\n",
    "        gradient = jax.grad(loss_f)(theta, beta)\n",
    "        updates, opt_state = opt.update(gradient, opt_state)\n",
    "        theta = optax.apply_updates(theta, updates)\n",
    "        angle.append(theta)\n",
    "        energy.append(circuit_expected(theta))\n",
    "\n",
    "        conv = np.abs(energy[-1] - energy[-2])\n",
    "\n",
    "        if n % 1 == 0:\n",
    "            print(f\"Step = {n},  Energy = {energy[-1]:.8f} Ha, {theta}\")\n",
    "\n",
    "        if conv <= conv_tol:\n",
    "            break\n",
    "    return angle[-1], energy[-1]"
   ]
  },
  {
   "cell_type": "markdown",
   "metadata": {},
   "source": [
    "We now have all we need to run the ground state and 1st excited state\n",
    "optimization.\n"
   ]
  },
  {
   "cell_type": "markdown",
   "metadata": {},
   "source": [
    "For the excited state, we are going to choose the value for $\\beta$,\n",
    "such that $\\beta > E_1 - E_0$. In other word, $\\beta$ needs to be larger\n",
    "than the gap between the ground state energy and the first excited state\n",
    "energy.\n"
   ]
  },
  {
   "cell_type": "code",
   "execution_count": 14,
   "metadata": {
    "collapsed": false,
    "jupyter": {
     "outputs_hidden": false
    }
   },
   "outputs": [
    {
     "name": "stdout",
     "output_type": "stream",
     "text": [
      "Step = 0,  Energy = -1.01803971 Ha, -0.3238238080027143\n",
      "Step = 1,  Energy = -0.60333826 Ha, -0.9984843874025111\n",
      "Step = 2,  Energy = 0.25053938 Ha, -2.145216985963448\n",
      "Step = 3,  Energy = 0.47818493 Ha, -2.939303103162038\n",
      "Step = 4,  Energy = 0.47691795 Ha, -2.854233326221313\n",
      "Step = 5,  Energy = 0.47763624 Ha, -2.8711753026259768\n",
      "Step = 6,  Energy = 0.47751113 Ha, -2.867787474727545\n",
      "Step = 7,  Energy = 0.47753689 Ha, -2.868465035770822\n",
      "Step = 8,  Energy = 0.47753177 Ha, -2.8683295235984567\n",
      "Step = 9,  Energy = 0.47753280 Ha, -2.8683566260326394\n",
      "Step = 10,  Energy = 0.47753259 Ha, -2.8683512055458054\n"
     ]
    },
    {
     "data": {
      "text/plain": [
       "(tensor(-30.9216021, requires_grad=True), Array(12.99399607, dtype=float64))"
      ]
     },
     "execution_count": 14,
     "metadata": {},
     "output_type": "execute_result"
    }
   ],
   "source": [
    "beta = 6\n",
    "\n",
    "first_excite_theta, first_excite_energy = optimize(beta=beta)\n",
    "\n",
    "hatree_energy_to_ev(gs_energy), hatree_energy_to_ev(first_excite_energy)"
   ]
  },
  {
   "cell_type": "markdown",
   "metadata": {},
   "source": [
    "The result should produce something close to the first ionization energy\n",
    "of $H_2$ is $1312.0 kJ/mol$ according to\n",
    "[Wikipedia](https://en.wikipedia.org/wiki/Hydrogen). Note that this is\n",
    "the ionization energy, at which the electron is completely removed from\n",
    "the molecule. Here we are calculating the excited state energy, where an\n",
    "electron moves to the outer shell only. Intuitively, we should a lower\n",
    "number than above. We now see how close the result is to reality.\n"
   ]
  },
  {
   "cell_type": "code",
   "execution_count": 15,
   "metadata": {
    "collapsed": false,
    "jupyter": {
     "outputs_hidden": false
    }
   },
   "outputs": [
    {
     "name": "stdout",
     "output_type": "stream",
     "text": [
      "Predicted E_2 is 1253.7618176981923.\n",
      "The result is 58.23818230180768 kJ/mol different from reality, or 4.438885846174372 percent\n"
     ]
    }
   ],
   "source": [
    "kj_per_mol_per_hatree = 2625.5\n",
    "ground_truth_in_kj_per_mol = 1312\n",
    "prediction_in_kj_per_mol = first_excite_energy * kj_per_mol_per_hatree\n",
    "\n",
    "error = np.abs(prediction_in_kj_per_mol - ground_truth_in_kj_per_mol)\n",
    "print(f\"Predicted E_2 is {prediction_in_kj_per_mol}.\")\n",
    "print(\n",
    "    f\"The result is {error} kJ/mol different from reality, or {100 - (prediction_in_kj_per_mol / ground_truth_in_kj_per_mol * 100)} percent\"\n",
    ")"
   ]
  },
  {
   "cell_type": "markdown",
   "metadata": {},
   "source": [
    "Conclusion\n",
    "==========\n",
    "\n",
    "We have used VQE and VQD to find the ground state and the excited state\n",
    "of the $H_2$ molecule. One of the applications is in photovoltaic\n",
    "devices. For example, the design of solar cells relies on optimizing the\n",
    "energy levels of donor and acceptor materials to facilitate charge\n",
    "separation and collection, thereby enhancing solar energy conversion\n",
    "efficiency.\n",
    "\n",
    "To build up on this work, we recommend readers to run this script with\n",
    "more complex molecules and/or find the energy needed for higher\n",
    "excitation levels. Also do not forget check out other tutorials for\n",
    "Quantum chemistry here in Pennylane. Good luck on your Quantum chemistry\n",
    "journey!\n"
   ]
  },
  {
   "cell_type": "markdown",
   "metadata": {
    "jp-MarkdownHeadingCollapsed": true
   },
   "source": [
    "References\n",
    "==========\n",
    "\n",
    "About the author\n",
    "================\n"
   ]
  }
 ],
 "metadata": {
  "kernelspec": {
   "display_name": "Python 3 (ipykernel)",
   "language": "python",
   "name": "python3"
  },
  "language_info": {
   "codemirror_mode": {
    "name": "ipython",
    "version": 3
   },
   "file_extension": ".py",
   "mimetype": "text/x-python",
   "name": "python",
   "nbconvert_exporter": "python",
   "pygments_lexer": "ipython3",
   "version": "3.10.4"
  }
 },
 "nbformat": 4,
 "nbformat_minor": 4
}
